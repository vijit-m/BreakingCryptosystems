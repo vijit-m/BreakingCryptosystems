{
 "cells": [
  {
   "cell_type": "code",
   "execution_count": 1,
   "metadata": {},
   "outputs": [],
   "source": [
    "import numpy as np"
   ]
  },
  {
   "cell_type": "code",
   "execution_count": 2,
   "metadata": {},
   "outputs": [],
   "source": [
    "def char_to_bin (s):\n",
    "    mp =  dict()\n",
    "    mp['f'] = \"0000\"\n",
    "    mp['g'] = \"0001\" \n",
    "    mp['h'] = \"0010\" \n",
    "    mp['i']       = \"0011\" \n",
    "    mp['j'] = \"0100\" \n",
    "    mp['k'] = \"0101\" \n",
    "    mp['l'] = \"0110\" \n",
    "    mp['m'] = \"0111\" \n",
    "    mp['n'] = \"1000\" \n",
    "    mp['o'] = \"1001\" \n",
    "    mp['p'] = \"1010\" \n",
    "    mp['q'] = \"1011\" \n",
    "    mp['r'] = \"1100\" \n",
    "    mp['s'] = \"1101\" \n",
    "    mp['t'] = \"1110\" \n",
    "    mp['u'] = \"1111\" \n",
    "    binary = \"\"\n",
    "    for i in range (len(s)):\n",
    "        binary = binary + mp[s[i]]\n",
    "    return binary; \n",
    "    \n",
    "def bin_to_char (s,size_out):\n",
    "    mp =dict()\n",
    "    mp[\"0000\"] = \"f\"; \n",
    "    mp[\"0001\"] = \"g\"; \n",
    "    mp[\"0010\"] = \"h\"; \n",
    "    mp[\"0011\"] = \"i\"; \n",
    "    mp[\"0100\"] = \"j\"; \n",
    "    mp[\"0101\"] = \"k\"; \n",
    "    mp[\"0110\"] = \"l\"; \n",
    "    mp[\"0111\"] = \"m\"; \n",
    "    mp[\"1000\"] = \"n\"; \n",
    "    mp[\"1001\"] = \"o\"; \n",
    "    mp[\"1010\"] = \"p\"; \n",
    "    mp[\"1011\"] = \"q\"; \n",
    "    mp[\"1100\"] = \"r\"; \n",
    "    mp[\"1101\"] = \"s\"; \n",
    "    mp[\"1110\"] = \"t\"; \n",
    "    mp[\"1111\"] = \"u\"; \n",
    "    char = \"\" \n",
    "    for i in range (0,size_out):\n",
    "        ch=s[i*4:4*(i+1)]\n",
    "        char=char+mp[ch];\n",
    "\n",
    "    return char\n",
    "\n",
    "def bin_to_dec(s):\n",
    "    ans = 0\n",
    "    for i in range(0,len(s)):\n",
    "        if(s[len(s)-i-1]=='1'):\n",
    "            ans=ans+pow(2,i)\n",
    "        \n",
    "    return ans;"
   ]
  },
  {
   "cell_type": "code",
   "execution_count": null,
   "metadata": {},
   "outputs": [],
   "source": []
  },
  {
   "cell_type": "code",
   "execution_count": null,
   "metadata": {},
   "outputs": [],
   "source": []
  },
  {
   "cell_type": "code",
   "execution_count": null,
   "metadata": {},
   "outputs": [],
   "source": []
  },
  {
   "cell_type": "code",
   "execution_count": null,
   "metadata": {},
   "outputs": [],
   "source": []
  },
  {
   "cell_type": "code",
   "execution_count": null,
   "metadata": {},
   "outputs": [],
   "source": []
  },
  {
   "cell_type": "code",
   "execution_count": null,
   "metadata": {},
   "outputs": [],
   "source": []
  },
  {
   "cell_type": "code",
   "execution_count": 444,
   "metadata": {},
   "outputs": [],
   "source": [
    "from pyfinite import ffield\n",
    "import itertools"
   ]
  },
  {
   "cell_type": "code",
   "execution_count": 445,
   "metadata": {},
   "outputs": [],
   "source": [
    "F = ffield.FField(7)"
   ]
  },
  {
   "cell_type": "code",
   "execution_count": 446,
   "metadata": {},
   "outputs": [],
   "source": [
    "all_bytes = list(itertools.product([0, 1], repeat=8))\n",
    "all_bytes = list(convertlistToStr(i) for i in all_bytes);#fiter"
   ]
  },
  {
   "cell_type": "code",
   "execution_count": 574,
   "metadata": {},
   "outputs": [
    {
     "name": "stdout",
     "output_type": "stream",
     "text": [
      "['ff', 'fg', 'fh', 'fi', 'fj', 'fk', 'fl', 'fm', 'fn', 'fo', 'fp', 'fq', 'fr', 'fs', 'ft', 'fu', 'gf', 'gg', 'gh', 'gi', 'gj', 'gk', 'gl', 'gm', 'gn', 'go', 'gp', 'gq', 'gr', 'gs', 'gt', 'gu', 'hf', 'hg', 'hh', 'hi', 'hj', 'hk', 'hl', 'hm', 'hn', 'ho', 'hp', 'hq', 'hr', 'hs', 'ht', 'hu', 'if', 'ig', 'ih', 'ii', 'ij', 'ik', 'il', 'im', 'in', 'io', 'ip', 'iq', 'ir', 'is', 'it', 'iu', 'jf', 'jg', 'jh', 'ji', 'jj', 'jk', 'jl', 'jm', 'jn', 'jo', 'jp', 'jq', 'jr', 'js', 'jt', 'ju', 'kf', 'kg', 'kh', 'ki', 'kj', 'kk', 'kl', 'km', 'kn', 'ko', 'kp', 'kq', 'kr', 'ks', 'kt', 'ku', 'lf', 'lg', 'lh', 'li', 'lj', 'lk', 'll', 'lm', 'ln', 'lo', 'lp', 'lq', 'lr', 'ls', 'lt', 'lu', 'mf', 'mg', 'mh', 'mi', 'mj', 'mk', 'ml', 'mm', 'mn', 'mo', 'mp', 'mq', 'mr', 'ms', 'mt', 'mu']\n"
     ]
    }
   ],
   "source": [
    "all_bytes_text = []\n",
    "for ind in range(0,128):\n",
    "    i = all_bytes[ind]\n",
    "    temp=bin_to_char(i,2)\n",
    "    all_bytes_text.append(temp)\n",
    "    \n",
    "print(all_bytes_text)"
   ]
  },
  {
   "cell_type": "code",
   "execution_count": 448,
   "metadata": {},
   "outputs": [],
   "source": [
    "rand_string = 'fjhsijgkoshufp'\n",
    "all_bytes_text_1=[]\n",
    "for i in all_bytes_text:\n",
    "    all_bytes_text_1.append(i+rand_string)\n",
    "    \n"
   ]
  },
  {
   "cell_type": "code",
   "execution_count": 449,
   "metadata": {},
   "outputs": [
    {
     "name": "stdout",
     "output_type": "stream",
     "text": [
      "0\n",
      "1\n",
      "x^1\n",
      "x^1 + 1\n",
      "x^2\n",
      "x^2 + 1\n",
      "x^2 + x^1\n",
      "x^2 + x^1 + 1\n",
      "x^3\n",
      "x^3 + 1\n",
      "x^3 + x^1\n",
      "x^3 + x^1 + 1\n",
      "x^3 + x^2\n",
      "x^3 + x^2 + 1\n",
      "x^3 + x^2 + x^1\n",
      "x^3 + x^2 + x^1 + 1\n",
      "x^4\n",
      "x^4 + 1\n",
      "x^4 + x^1\n",
      "x^4 + x^1 + 1\n",
      "x^4 + x^2\n",
      "x^4 + x^2 + 1\n",
      "x^4 + x^2 + x^1\n",
      "x^4 + x^2 + x^1 + 1\n",
      "x^4 + x^3\n",
      "x^4 + x^3 + 1\n",
      "x^4 + x^3 + x^1\n",
      "x^4 + x^3 + x^1 + 1\n",
      "x^4 + x^3 + x^2\n",
      "x^4 + x^3 + x^2 + 1\n",
      "x^4 + x^3 + x^2 + x^1\n",
      "x^4 + x^3 + x^2 + x^1 + 1\n",
      "x^5\n",
      "x^5 + 1\n",
      "x^5 + x^1\n",
      "x^5 + x^1 + 1\n",
      "x^5 + x^2\n",
      "x^5 + x^2 + 1\n",
      "x^5 + x^2 + x^1\n",
      "x^5 + x^2 + x^1 + 1\n",
      "x^5 + x^3\n",
      "x^5 + x^3 + 1\n",
      "x^5 + x^3 + x^1\n",
      "x^5 + x^3 + x^1 + 1\n",
      "x^5 + x^3 + x^2\n",
      "x^5 + x^3 + x^2 + 1\n",
      "x^5 + x^3 + x^2 + x^1\n",
      "x^5 + x^3 + x^2 + x^1 + 1\n",
      "x^5 + x^4\n",
      "x^5 + x^4 + 1\n",
      "x^5 + x^4 + x^1\n",
      "x^5 + x^4 + x^1 + 1\n",
      "x^5 + x^4 + x^2\n",
      "x^5 + x^4 + x^2 + 1\n",
      "x^5 + x^4 + x^2 + x^1\n",
      "x^5 + x^4 + x^2 + x^1 + 1\n",
      "x^5 + x^4 + x^3\n",
      "x^5 + x^4 + x^3 + 1\n",
      "x^5 + x^4 + x^3 + x^1\n",
      "x^5 + x^4 + x^3 + x^1 + 1\n",
      "x^5 + x^4 + x^3 + x^2\n",
      "x^5 + x^4 + x^3 + x^2 + 1\n",
      "x^5 + x^4 + x^3 + x^2 + x^1\n",
      "x^5 + x^4 + x^3 + x^2 + x^1 + 1\n",
      "x^6\n",
      "x^6 + 1\n",
      "x^6 + x^1\n",
      "x^6 + x^1 + 1\n",
      "x^6 + x^2\n",
      "x^6 + x^2 + 1\n",
      "x^6 + x^2 + x^1\n",
      "x^6 + x^2 + x^1 + 1\n",
      "x^6 + x^3\n",
      "x^6 + x^3 + 1\n",
      "x^6 + x^3 + x^1\n",
      "x^6 + x^3 + x^1 + 1\n",
      "x^6 + x^3 + x^2\n",
      "x^6 + x^3 + x^2 + 1\n",
      "x^6 + x^3 + x^2 + x^1\n",
      "x^6 + x^3 + x^2 + x^1 + 1\n",
      "x^6 + x^4\n",
      "x^6 + x^4 + 1\n",
      "x^6 + x^4 + x^1\n",
      "x^6 + x^4 + x^1 + 1\n",
      "x^6 + x^4 + x^2\n",
      "x^6 + x^4 + x^2 + 1\n",
      "x^6 + x^4 + x^2 + x^1\n",
      "x^6 + x^4 + x^2 + x^1 + 1\n",
      "x^6 + x^4 + x^3\n",
      "x^6 + x^4 + x^3 + 1\n",
      "x^6 + x^4 + x^3 + x^1\n",
      "x^6 + x^4 + x^3 + x^1 + 1\n",
      "x^6 + x^4 + x^3 + x^2\n",
      "x^6 + x^4 + x^3 + x^2 + 1\n",
      "x^6 + x^4 + x^3 + x^2 + x^1\n",
      "x^6 + x^4 + x^3 + x^2 + x^1 + 1\n",
      "x^6 + x^5\n",
      "x^6 + x^5 + 1\n",
      "x^6 + x^5 + x^1\n",
      "x^6 + x^5 + x^1 + 1\n",
      "x^6 + x^5 + x^2\n",
      "x^6 + x^5 + x^2 + 1\n",
      "x^6 + x^5 + x^2 + x^1\n",
      "x^6 + x^5 + x^2 + x^1 + 1\n",
      "x^6 + x^5 + x^3\n",
      "x^6 + x^5 + x^3 + 1\n",
      "x^6 + x^5 + x^3 + x^1\n",
      "x^6 + x^5 + x^3 + x^1 + 1\n",
      "x^6 + x^5 + x^3 + x^2\n",
      "x^6 + x^5 + x^3 + x^2 + 1\n",
      "x^6 + x^5 + x^3 + x^2 + x^1\n",
      "x^6 + x^5 + x^3 + x^2 + x^1 + 1\n",
      "x^6 + x^5 + x^4\n",
      "x^6 + x^5 + x^4 + 1\n",
      "x^6 + x^5 + x^4 + x^1\n",
      "x^6 + x^5 + x^4 + x^1 + 1\n",
      "x^6 + x^5 + x^4 + x^2\n",
      "x^6 + x^5 + x^4 + x^2 + 1\n",
      "x^6 + x^5 + x^4 + x^2 + x^1\n",
      "x^6 + x^5 + x^4 + x^2 + x^1 + 1\n",
      "x^6 + x^5 + x^4 + x^3\n",
      "x^6 + x^5 + x^4 + x^3 + 1\n",
      "x^6 + x^5 + x^4 + x^3 + x^1\n",
      "x^6 + x^5 + x^4 + x^3 + x^1 + 1\n",
      "x^6 + x^5 + x^4 + x^3 + x^2\n",
      "x^6 + x^5 + x^4 + x^3 + x^2 + 1\n",
      "x^6 + x^5 + x^4 + x^3 + x^2 + x^1\n",
      "x^6 + x^5 + x^4 + x^3 + x^2 + x^1 + 1\n",
      "x^7\n",
      "x^7 + 1\n",
      "x^7 + x^1\n",
      "x^7 + x^1 + 1\n",
      "x^7 + x^2\n",
      "x^7 + x^2 + 1\n",
      "x^7 + x^2 + x^1\n",
      "x^7 + x^2 + x^1 + 1\n",
      "x^7 + x^3\n",
      "x^7 + x^3 + 1\n",
      "x^7 + x^3 + x^1\n",
      "x^7 + x^3 + x^1 + 1\n",
      "x^7 + x^3 + x^2\n",
      "x^7 + x^3 + x^2 + 1\n",
      "x^7 + x^3 + x^2 + x^1\n",
      "x^7 + x^3 + x^2 + x^1 + 1\n",
      "x^7 + x^4\n",
      "x^7 + x^4 + 1\n",
      "x^7 + x^4 + x^1\n",
      "x^7 + x^4 + x^1 + 1\n",
      "x^7 + x^4 + x^2\n",
      "x^7 + x^4 + x^2 + 1\n",
      "x^7 + x^4 + x^2 + x^1\n",
      "x^7 + x^4 + x^2 + x^1 + 1\n",
      "x^7 + x^4 + x^3\n",
      "x^7 + x^4 + x^3 + 1\n",
      "x^7 + x^4 + x^3 + x^1\n",
      "x^7 + x^4 + x^3 + x^1 + 1\n",
      "x^7 + x^4 + x^3 + x^2\n",
      "x^7 + x^4 + x^3 + x^2 + 1\n",
      "x^7 + x^4 + x^3 + x^2 + x^1\n",
      "x^7 + x^4 + x^3 + x^2 + x^1 + 1\n",
      "x^7 + x^5\n",
      "x^7 + x^5 + 1\n",
      "x^7 + x^5 + x^1\n",
      "x^7 + x^5 + x^1 + 1\n",
      "x^7 + x^5 + x^2\n",
      "x^7 + x^5 + x^2 + 1\n",
      "x^7 + x^5 + x^2 + x^1\n",
      "x^7 + x^5 + x^2 + x^1 + 1\n",
      "x^7 + x^5 + x^3\n",
      "x^7 + x^5 + x^3 + 1\n",
      "x^7 + x^5 + x^3 + x^1\n",
      "x^7 + x^5 + x^3 + x^1 + 1\n",
      "x^7 + x^5 + x^3 + x^2\n",
      "x^7 + x^5 + x^3 + x^2 + 1\n",
      "x^7 + x^5 + x^3 + x^2 + x^1\n",
      "x^7 + x^5 + x^3 + x^2 + x^1 + 1\n",
      "x^7 + x^5 + x^4\n",
      "x^7 + x^5 + x^4 + 1\n",
      "x^7 + x^5 + x^4 + x^1\n",
      "x^7 + x^5 + x^4 + x^1 + 1\n",
      "x^7 + x^5 + x^4 + x^2\n",
      "x^7 + x^5 + x^4 + x^2 + 1\n",
      "x^7 + x^5 + x^4 + x^2 + x^1\n",
      "x^7 + x^5 + x^4 + x^2 + x^1 + 1\n",
      "x^7 + x^5 + x^4 + x^3\n",
      "x^7 + x^5 + x^4 + x^3 + 1\n",
      "x^7 + x^5 + x^4 + x^3 + x^1\n",
      "x^7 + x^5 + x^4 + x^3 + x^1 + 1\n",
      "x^7 + x^5 + x^4 + x^3 + x^2\n",
      "x^7 + x^5 + x^4 + x^3 + x^2 + 1\n",
      "x^7 + x^5 + x^4 + x^3 + x^2 + x^1\n",
      "x^7 + x^5 + x^4 + x^3 + x^2 + x^1 + 1\n",
      "x^7 + x^6\n",
      "x^7 + x^6 + 1\n",
      "x^7 + x^6 + x^1\n",
      "x^7 + x^6 + x^1 + 1\n",
      "x^7 + x^6 + x^2\n",
      "x^7 + x^6 + x^2 + 1\n",
      "x^7 + x^6 + x^2 + x^1\n",
      "x^7 + x^6 + x^2 + x^1 + 1\n",
      "x^7 + x^6 + x^3\n",
      "x^7 + x^6 + x^3 + 1\n",
      "x^7 + x^6 + x^3 + x^1\n",
      "x^7 + x^6 + x^3 + x^1 + 1\n",
      "x^7 + x^6 + x^3 + x^2\n",
      "x^7 + x^6 + x^3 + x^2 + 1\n",
      "x^7 + x^6 + x^3 + x^2 + x^1\n",
      "x^7 + x^6 + x^3 + x^2 + x^1 + 1\n",
      "x^7 + x^6 + x^4\n",
      "x^7 + x^6 + x^4 + 1\n",
      "x^7 + x^6 + x^4 + x^1\n",
      "x^7 + x^6 + x^4 + x^1 + 1\n",
      "x^7 + x^6 + x^4 + x^2\n",
      "x^7 + x^6 + x^4 + x^2 + 1\n",
      "x^7 + x^6 + x^4 + x^2 + x^1\n",
      "x^7 + x^6 + x^4 + x^2 + x^1 + 1\n",
      "x^7 + x^6 + x^4 + x^3\n",
      "x^7 + x^6 + x^4 + x^3 + 1\n",
      "x^7 + x^6 + x^4 + x^3 + x^1\n",
      "x^7 + x^6 + x^4 + x^3 + x^1 + 1\n",
      "x^7 + x^6 + x^4 + x^3 + x^2\n",
      "x^7 + x^6 + x^4 + x^3 + x^2 + 1\n",
      "x^7 + x^6 + x^4 + x^3 + x^2 + x^1\n",
      "x^7 + x^6 + x^4 + x^3 + x^2 + x^1 + 1\n",
      "x^7 + x^6 + x^5\n",
      "x^7 + x^6 + x^5 + 1\n",
      "x^7 + x^6 + x^5 + x^1\n",
      "x^7 + x^6 + x^5 + x^1 + 1\n",
      "x^7 + x^6 + x^5 + x^2\n",
      "x^7 + x^6 + x^5 + x^2 + 1\n",
      "x^7 + x^6 + x^5 + x^2 + x^1\n",
      "x^7 + x^6 + x^5 + x^2 + x^1 + 1\n",
      "x^7 + x^6 + x^5 + x^3\n",
      "x^7 + x^6 + x^5 + x^3 + 1\n",
      "x^7 + x^6 + x^5 + x^3 + x^1\n",
      "x^7 + x^6 + x^5 + x^3 + x^1 + 1\n",
      "x^7 + x^6 + x^5 + x^3 + x^2\n",
      "x^7 + x^6 + x^5 + x^3 + x^2 + 1\n",
      "x^7 + x^6 + x^5 + x^3 + x^2 + x^1\n",
      "x^7 + x^6 + x^5 + x^3 + x^2 + x^1 + 1\n",
      "x^7 + x^6 + x^5 + x^4\n",
      "x^7 + x^6 + x^5 + x^4 + 1\n",
      "x^7 + x^6 + x^5 + x^4 + x^1\n",
      "x^7 + x^6 + x^5 + x^4 + x^1 + 1\n",
      "x^7 + x^6 + x^5 + x^4 + x^2\n",
      "x^7 + x^6 + x^5 + x^4 + x^2 + 1\n",
      "x^7 + x^6 + x^5 + x^4 + x^2 + x^1\n",
      "x^7 + x^6 + x^5 + x^4 + x^2 + x^1 + 1\n",
      "x^7 + x^6 + x^5 + x^4 + x^3\n",
      "x^7 + x^6 + x^5 + x^4 + x^3 + 1\n",
      "x^7 + x^6 + x^5 + x^4 + x^3 + x^1\n",
      "x^7 + x^6 + x^5 + x^4 + x^3 + x^1 + 1\n",
      "x^7 + x^6 + x^5 + x^4 + x^3 + x^2\n",
      "x^7 + x^6 + x^5 + x^4 + x^3 + x^2 + 1\n",
      "x^7 + x^6 + x^5 + x^4 + x^3 + x^2 + x^1\n",
      "x^7 + x^6 + x^5 + x^4 + x^3 + x^2 + x^1 + 1\n"
     ]
    }
   ],
   "source": [
    "for i in range(0,256):\n",
    "    print(F.ShowPolynomial(i))"
   ]
  },
  {
   "cell_type": "code",
   "execution_count": null,
   "metadata": {},
   "outputs": [],
   "source": [
    "################################\n",
    "#FINDING A matrix and E vector ######\n",
    "################################"
   ]
  },
  {
   "cell_type": "code",
   "execution_count": 450,
   "metadata": {},
   "outputs": [
    {
     "name": "stdout",
     "output_type": "stream",
     "text": [
      "82\n",
      "87\n"
     ]
    }
   ],
   "source": [
    "print(bin_to_dec(char_to_bin('kh')))\n",
    "print(bin_to_dec(char_to_bin('km')))\n",
    "\n",
    "def field_pow(num,p):\n",
    "    ans=1\n",
    "    for i in range(0,p):\n",
    "        ans=F.Multiply(ans,num)\n",
    "        \n",
    "    return ans"
   ]
  },
  {
   "cell_type": "code",
   "execution_count": 451,
   "metadata": {},
   "outputs": [],
   "source": [
    "tuples = []\n",
    "x=1\n",
    "for a88 in range(0,128):\n",
    "    for e8 in range(1,127):\n",
    "        a = F.Multiply(a88,field_pow(x,e8))\n",
    "        b = F.Multiply(a88,field_pow(a,e8))\n",
    "        c = field_pow(b,e8)\n",
    "        if(c==82):\n",
    "            tuples.append((a88,e8))"
   ]
  },
  {
   "cell_type": "code",
   "execution_count": 452,
   "metadata": {},
   "outputs": [
    {
     "name": "stdout",
     "output_type": "stream",
     "text": [
      "[(2, 23), (2, 103), (3, 47), (3, 79), (5, 51), (5, 75), (7, 42), (7, 84), (9, 20), (9, 106), (10, 15), (10, 111), (13, 32), (13, 94), (14, 46), (14, 80), (15, 35), (15, 91), (17, 7), (17, 119), (18, 18), (18, 108), (19, 26), (19, 100), (22, 54), (22, 72), (24, 33), (24, 93), (29, 53), (29, 73), (30, 1), (30, 125), (32, 38), (32, 88), (34, 59), (34, 67), (35, 37), (35, 89), (36, 43), (36, 83), (38, 45), (38, 81), (41, 48), (41, 78), (42, 25), (42, 101), (43, 21), (43, 105), (45, 13), (45, 113), (48, 57), (48, 69), (49, 49), (49, 77), (51, 27), (51, 99), (52, 2), (52, 124), (54, 61), (54, 65), (55, 17), (55, 109), (56, 52), (56, 74), (57, 31), (57, 95), (59, 39), (59, 87), (61, 34), (61, 92), (62, 44), (62, 82), (64, 24), (64, 102), (65, 14), (65, 112), (67, 36), (67, 90), (68, 58), (68, 68), (75, 12), (75, 114), (78, 3), (78, 123), (81, 4), (81, 122), (83, 30), (83, 96), (90, 63), (91, 16), (91, 110), (92, 41), (92, 85), (93, 60), (93, 66), (94, 29), (94, 97), (103, 50), (103, 76), (108, 28), (108, 98), (109, 11), (109, 115), (111, 10), (111, 116), (114, 22), (114, 104), (115, 56), (115, 70), (116, 9), (116, 117), (118, 62), (118, 64), (121, 40), (121, 86), (122, 19), (122, 107), (123, 8), (123, 118), (124, 55), (124, 71), (125, 6), (125, 120), (126, 5), (126, 121)]\n"
     ]
    }
   ],
   "source": [
    "print(tuples)"
   ]
  },
  {
   "cell_type": "code",
   "execution_count": 453,
   "metadata": {},
   "outputs": [],
   "source": [
    "tuples2 = []\n",
    "x=2\n",
    "for a88 in range(0,128):\n",
    "    for e8 in range(1,127):\n",
    "        a = F.Multiply(a88,field_pow(x,e8))\n",
    "        b = F.Multiply(a88,field_pow(a,e8))\n",
    "        c = field_pow(b,e8)\n",
    "        if(c==87):\n",
    "            tuples2.append((a88,e8))\n",
    "\n",
    "tuples3 = list(set(tuples) & set(tuples2))"
   ]
  },
  {
   "cell_type": "code",
   "execution_count": 454,
   "metadata": {},
   "outputs": [
    {
     "name": "stdout",
     "output_type": "stream",
     "text": [
      "5\n"
     ]
    }
   ],
   "source": [
    "print(bin_to_dec(char_to_bin('fk')))"
   ]
  },
  {
   "cell_type": "code",
   "execution_count": 455,
   "metadata": {},
   "outputs": [
    {
     "name": "stdout",
     "output_type": "stream",
     "text": [
      "[(91, 16), (103, 50), (54, 61)]\n"
     ]
    }
   ],
   "source": [
    "print(tuples3)"
   ]
  },
  {
   "cell_type": "code",
   "execution_count": 456,
   "metadata": {},
   "outputs": [
    {
     "name": "stdout",
     "output_type": "stream",
     "text": [
      "[(91, 16), (103, 50), (54, 61)]\n"
     ]
    }
   ],
   "source": [
    "tuples4 = []\n",
    "x=3\n",
    "for a88 in range(0,128):\n",
    "    for e8 in range(1,127):\n",
    "        a = F.Multiply(a88,field_pow(x,e8))\n",
    "        b = F.Multiply(a88,field_pow(a,e8))\n",
    "        c = field_pow(b,e8)\n",
    "        if(c==5):\n",
    "            tuples4.append((a88,e8))\n",
    "\n",
    "tuples5 = list(set(tuples3) & set(tuples4))\n",
    "print(tuples5)"
   ]
  },
  {
   "cell_type": "code",
   "execution_count": 457,
   "metadata": {},
   "outputs": [],
   "source": [
    "A_matrix = [0, 0, 0, 0, 0, 0, 0, 0, 0]\n",
    "A_matrix[8] = tuples5"
   ]
  },
  {
   "cell_type": "code",
   "execution_count": 458,
   "metadata": {},
   "outputs": [
    {
     "name": "stdout",
     "output_type": "stream",
     "text": [
      "89\n",
      "33\n",
      "86\n"
     ]
    }
   ],
   "source": [
    "print(bin_to_dec(char_to_bin('ko')))\n",
    "print(bin_to_dec(char_to_bin('hg')))\n",
    "print(bin_to_dec(char_to_bin('kl')))"
   ]
  },
  {
   "cell_type": "code",
   "execution_count": 459,
   "metadata": {},
   "outputs": [],
   "source": [
    "tuples = []\n",
    "x=1\n",
    "for a88 in range(0,128):\n",
    "    for e8 in range(1,127):\n",
    "        a = F.Multiply(a88,field_pow(x,e8))\n",
    "        b = F.Multiply(a88,field_pow(a,e8))\n",
    "        c = field_pow(b,e8)\n",
    "        if(c==89):\n",
    "            tuples.append((a88,e8))\n",
    "            \n",
    "tuples2 = []\n",
    "x=2\n",
    "for a88 in range(0,128):\n",
    "    for e8 in range(1,127):\n",
    "        a = F.Multiply(a88,field_pow(x,e8))\n",
    "        b = F.Multiply(a88,field_pow(a,e8))\n",
    "        c = field_pow(b,e8)\n",
    "        if(c==33):\n",
    "            tuples2.append((a88,e8))\n",
    "            \n",
    "x=3\n",
    "tuples3 = []\n",
    "for a88 in range(0,128):\n",
    "    for e8 in range(1,127):\n",
    "        a = F.Multiply(a88,field_pow(x,e8))\n",
    "        b = F.Multiply(a88,field_pow(a,e8))\n",
    "        c = field_pow(b,e8)\n",
    "        if(c==86):\n",
    "            tuples3.append((a88,e8))\n",
    "\n",
    "tuples4 = list(set(tuples) & set(tuples2))\n",
    "tuples5 = list(set(tuples3) & set(tuples4))"
   ]
  },
  {
   "cell_type": "code",
   "execution_count": 460,
   "metadata": {},
   "outputs": [
    {
     "name": "stdout",
     "output_type": "stream",
     "text": [
      "[(14, 66), (37, 77), (96, 111)]\n"
     ]
    }
   ],
   "source": [
    "print(tuples5)"
   ]
  },
  {
   "cell_type": "code",
   "execution_count": 461,
   "metadata": {},
   "outputs": [],
   "source": [
    "A_matrix[7] = tuples5"
   ]
  },
  {
   "cell_type": "code",
   "execution_count": 462,
   "metadata": {},
   "outputs": [
    {
     "name": "stdout",
     "output_type": "stream",
     "text": [
      "100\n",
      "94\n",
      "58\n"
     ]
    }
   ],
   "source": [
    "print(bin_to_dec(char_to_bin('lj')))\n",
    "print(bin_to_dec(char_to_bin('kt')))\n",
    "print(bin_to_dec(char_to_bin('ip')))"
   ]
  },
  {
   "cell_type": "code",
   "execution_count": 463,
   "metadata": {},
   "outputs": [
    {
     "name": "stdout",
     "output_type": "stream",
     "text": [
      "[(87, 38), (93, 2), (121, 87)]\n"
     ]
    }
   ],
   "source": [
    "tuples = []\n",
    "x=1\n",
    "for a88 in range(0,128):\n",
    "    for e8 in range(1,127):\n",
    "        a = F.Multiply(a88,field_pow(x,e8))\n",
    "        b = F.Multiply(a88,field_pow(a,e8))\n",
    "        c = field_pow(b,e8)\n",
    "        if(c==100):\n",
    "            tuples.append((a88,e8))\n",
    "            \n",
    "tuples2 = []\n",
    "x=2\n",
    "for a88 in range(0,128):\n",
    "    for e8 in range(1,127):\n",
    "        a = F.Multiply(a88,field_pow(x,e8))\n",
    "        b = F.Multiply(a88,field_pow(a,e8))\n",
    "        c = field_pow(b,e8)\n",
    "        if(c==94):\n",
    "            tuples2.append((a88,e8))\n",
    "            \n",
    "x=3\n",
    "tuples3 = []\n",
    "for a88 in range(0,128):\n",
    "    for e8 in range(1,127):\n",
    "        a = F.Multiply(a88,field_pow(x,e8))\n",
    "        b = F.Multiply(a88,field_pow(a,e8))\n",
    "        c = field_pow(b,e8)\n",
    "        if(c==58):\n",
    "            tuples3.append((a88,e8))\n",
    "\n",
    "tuples4 = list(set(tuples) & set(tuples2))\n",
    "tuples5 = list(set(tuples3) & set(tuples4))\n",
    "\n",
    "print(tuples5)\n",
    "A_matrix[6] = tuples5"
   ]
  },
  {
   "cell_type": "code",
   "execution_count": 464,
   "metadata": {},
   "outputs": [
    {
     "name": "stdout",
     "output_type": "stream",
     "text": [
      "56\n",
      "97\n",
      "67\n"
     ]
    }
   ],
   "source": [
    "print(bin_to_dec(char_to_bin('in')))\n",
    "print(bin_to_dec(char_to_bin('lg')))\n",
    "print(bin_to_dec(char_to_bin('ji')))"
   ]
  },
  {
   "cell_type": "code",
   "execution_count": 465,
   "metadata": {},
   "outputs": [
    {
     "name": "stdout",
     "output_type": "stream",
     "text": [
      "[(59, 93), (39, 45), (16, 116)]\n"
     ]
    }
   ],
   "source": [
    "tuples = []\n",
    "x=1\n",
    "for a88 in range(0,128):\n",
    "    for e8 in range(1,127):\n",
    "        a = F.Multiply(a88,field_pow(x,e8))\n",
    "        b = F.Multiply(a88,field_pow(a,e8))\n",
    "        c = field_pow(b,e8)\n",
    "        if(c==56):\n",
    "            tuples.append((a88,e8))\n",
    "            \n",
    "tuples2 = []\n",
    "x=2\n",
    "for a88 in range(0,128):\n",
    "    for e8 in range(1,127):\n",
    "        a = F.Multiply(a88,field_pow(x,e8))\n",
    "        b = F.Multiply(a88,field_pow(a,e8))\n",
    "        c = field_pow(b,e8)\n",
    "        if(c==97):\n",
    "            tuples2.append((a88,e8))\n",
    "            \n",
    "x=3\n",
    "tuples3 = []\n",
    "for a88 in range(0,128):\n",
    "    for e8 in range(1,127):\n",
    "        a = F.Multiply(a88,field_pow(x,e8))\n",
    "        b = F.Multiply(a88,field_pow(a,e8))\n",
    "        c = field_pow(b,e8)\n",
    "        if(c==67):\n",
    "            tuples3.append((a88,e8))\n",
    "\n",
    "tuples4 = list(set(tuples) & set(tuples2))\n",
    "tuples5 = list(set(tuples3) & set(tuples4))\n",
    "\n",
    "print(tuples5)\n",
    "A_matrix[5] = tuples5"
   ]
  },
  {
   "cell_type": "code",
   "execution_count": 466,
   "metadata": {},
   "outputs": [
    {
     "name": "stdout",
     "output_type": "stream",
     "text": [
      "3\n",
      "4\n",
      "92\n"
     ]
    }
   ],
   "source": [
    "print(bin_to_dec(char_to_bin('fi')))\n",
    "print(bin_to_dec(char_to_bin('fj')))\n",
    "print(bin_to_dec(char_to_bin('kr')))"
   ]
  },
  {
   "cell_type": "code",
   "execution_count": 467,
   "metadata": {},
   "outputs": [
    {
     "name": "stdout",
     "output_type": "stream",
     "text": [
      "[(60, 98), (22, 84), (50, 72)]\n"
     ]
    }
   ],
   "source": [
    "tuples = []\n",
    "x=1\n",
    "for a88 in range(0,128):\n",
    "    for e8 in range(1,127):\n",
    "        a = F.Multiply(a88,field_pow(x,e8))\n",
    "        b = F.Multiply(a88,field_pow(a,e8))\n",
    "        c = field_pow(b,e8)\n",
    "        if(c==3):\n",
    "            tuples.append((a88,e8))\n",
    "            \n",
    "tuples2 = []\n",
    "x=2\n",
    "for a88 in range(0,128):\n",
    "    for e8 in range(1,127):\n",
    "        a = F.Multiply(a88,field_pow(x,e8))\n",
    "        b = F.Multiply(a88,field_pow(a,e8))\n",
    "        c = field_pow(b,e8)\n",
    "        if(c==4):\n",
    "            tuples2.append((a88,e8))\n",
    "            \n",
    "x=3\n",
    "tuples3 = []\n",
    "for a88 in range(0,128):\n",
    "    for e8 in range(1,127):\n",
    "        a = F.Multiply(a88,field_pow(x,e8))\n",
    "        b = F.Multiply(a88,field_pow(a,e8))\n",
    "        c = field_pow(b,e8)\n",
    "        if(c==92):\n",
    "            tuples3.append((a88,e8))\n",
    "\n",
    "tuples4 = list(set(tuples) & set(tuples2))\n",
    "tuples5 = list(set(tuples3) & set(tuples4))\n",
    "\n",
    "print(tuples5)\n",
    "A_matrix[4] = tuples5"
   ]
  },
  {
   "cell_type": "code",
   "execution_count": 468,
   "metadata": {},
   "outputs": [
    {
     "name": "stdout",
     "output_type": "stream",
     "text": [
      "62\n",
      "7\n",
      "57\n"
     ]
    }
   ],
   "source": [
    "print(bin_to_dec(char_to_bin('it')))\n",
    "print(bin_to_dec(char_to_bin('fm')))\n",
    "print(bin_to_dec(char_to_bin('io')))"
   ]
  },
  {
   "cell_type": "code",
   "execution_count": 469,
   "metadata": {},
   "outputs": [
    {
     "name": "stdout",
     "output_type": "stream",
     "text": [
      "[(40, 38), (6, 2), (89, 87)]\n"
     ]
    }
   ],
   "source": [
    "tuples = []\n",
    "x=1\n",
    "for a88 in range(0,128):\n",
    "    for e8 in range(1,127):\n",
    "        a = F.Multiply(a88,field_pow(x,e8))\n",
    "        b = F.Multiply(a88,field_pow(a,e8))\n",
    "        c = field_pow(b,e8)\n",
    "        if(c==62):\n",
    "            tuples.append((a88,e8))\n",
    "            \n",
    "tuples2 = []\n",
    "x=2\n",
    "for a88 in range(0,128):\n",
    "    for e8 in range(1,127):\n",
    "        a = F.Multiply(a88,field_pow(x,e8))\n",
    "        b = F.Multiply(a88,field_pow(a,e8))\n",
    "        c = field_pow(b,e8)\n",
    "        if(c==7):\n",
    "            tuples2.append((a88,e8))\n",
    "            \n",
    "x=3\n",
    "tuples3 = []\n",
    "for a88 in range(0,128):\n",
    "    for e8 in range(1,127):\n",
    "        a = F.Multiply(a88,field_pow(x,e8))\n",
    "        b = F.Multiply(a88,field_pow(a,e8))\n",
    "        c = field_pow(b,e8)\n",
    "        if(c==57):\n",
    "            tuples3.append((a88,e8))\n",
    "\n",
    "tuples4 = list(set(tuples) & set(tuples2))\n",
    "tuples5 = list(set(tuples3) & set(tuples4))\n",
    "\n",
    "print(tuples5)\n",
    "A_matrix[3] = tuples5"
   ]
  },
  {
   "cell_type": "code",
   "execution_count": 470,
   "metadata": {},
   "outputs": [
    {
     "name": "stdout",
     "output_type": "stream",
     "text": [
      "82\n",
      "9\n",
      "123\n"
     ]
    }
   ],
   "source": [
    "print(bin_to_dec(char_to_bin('kh')))\n",
    "print(bin_to_dec(char_to_bin('fo')))\n",
    "print(bin_to_dec(char_to_bin('mq')))"
   ]
  },
  {
   "cell_type": "code",
   "execution_count": 471,
   "metadata": {},
   "outputs": [
    {
     "name": "stdout",
     "output_type": "stream",
     "text": [
      "[(2, 103), (51, 99), (56, 52)]\n"
     ]
    }
   ],
   "source": [
    "tuples = []\n",
    "x=1\n",
    "for a88 in range(0,128):\n",
    "    for e8 in range(1,127):\n",
    "        a = F.Multiply(a88,field_pow(x,e8))\n",
    "        b = F.Multiply(a88,field_pow(a,e8))\n",
    "        c = field_pow(b,e8)\n",
    "        if(c==82):\n",
    "            tuples.append((a88,e8))\n",
    "            \n",
    "tuples2 = []\n",
    "x=2\n",
    "for a88 in range(0,128):\n",
    "    for e8 in range(1,127):\n",
    "        a = F.Multiply(a88,field_pow(x,e8))\n",
    "        b = F.Multiply(a88,field_pow(a,e8))\n",
    "        c = field_pow(b,e8)\n",
    "        if(c==9):\n",
    "            tuples2.append((a88,e8))\n",
    "            \n",
    "x=3\n",
    "tuples3 = []\n",
    "for a88 in range(0,128):\n",
    "    for e8 in range(1,127):\n",
    "        a = F.Multiply(a88,field_pow(x,e8))\n",
    "        b = F.Multiply(a88,field_pow(a,e8))\n",
    "        c = field_pow(b,e8)\n",
    "        if(c==123):\n",
    "            tuples3.append((a88,e8))\n",
    "\n",
    "tuples4 = list(set(tuples) & set(tuples2))\n",
    "tuples5 = list(set(tuples3) & set(tuples4))\n",
    "\n",
    "print(tuples5)\n",
    "A_matrix[2] = tuples5"
   ]
  },
  {
   "cell_type": "code",
   "execution_count": 472,
   "metadata": {},
   "outputs": [
    {
     "name": "stdout",
     "output_type": "stream",
     "text": [
      "9\n",
      "20\n",
      "43\n"
     ]
    }
   ],
   "source": [
    "print(bin_to_dec(char_to_bin('fo')))\n",
    "print(bin_to_dec(char_to_bin('gj')))\n",
    "print(bin_to_dec(char_to_bin('hq')))"
   ]
  },
  {
   "cell_type": "code",
   "execution_count": 473,
   "metadata": {},
   "outputs": [
    {
     "name": "stdout",
     "output_type": "stream",
     "text": [
      "[(100, 85), (87, 78), (25, 91)]\n"
     ]
    }
   ],
   "source": [
    "tuples = []\n",
    "x=1\n",
    "for a88 in range(0,128):\n",
    "    for e8 in range(1,127):\n",
    "        a = F.Multiply(a88,field_pow(x,e8))\n",
    "        b = F.Multiply(a88,field_pow(a,e8))\n",
    "        c = field_pow(b,e8)\n",
    "        if(c==9):\n",
    "            tuples.append((a88,e8))\n",
    "            \n",
    "tuples2 = []\n",
    "x=2\n",
    "for a88 in range(0,128):\n",
    "    for e8 in range(1,127):\n",
    "        a = F.Multiply(a88,field_pow(x,e8))\n",
    "        b = F.Multiply(a88,field_pow(a,e8))\n",
    "        c = field_pow(b,e8)\n",
    "        if(c==20):\n",
    "            tuples2.append((a88,e8))\n",
    "            \n",
    "x=3\n",
    "tuples3 = []\n",
    "for a88 in range(0,128):\n",
    "    for e8 in range(1,127):\n",
    "        a = F.Multiply(a88,field_pow(x,e8))\n",
    "        b = F.Multiply(a88,field_pow(a,e8))\n",
    "        c = field_pow(b,e8)\n",
    "        if(c==43):\n",
    "            tuples3.append((a88,e8))\n",
    "\n",
    "tuples4 = list(set(tuples) & set(tuples2))\n",
    "tuples5 = list(set(tuples3) & set(tuples4))\n",
    "\n",
    "print(tuples5)\n",
    "A_matrix[1] = tuples5"
   ]
  },
  {
   "cell_type": "code",
   "execution_count": 474,
   "metadata": {},
   "outputs": [
    {
     "name": "stdout",
     "output_type": "stream",
     "text": [
      "0\n",
      "[(100, 85), (87, 78), (25, 91)]\n",
      "[(2, 103), (51, 99), (56, 52)]\n",
      "[(40, 38), (6, 2), (89, 87)]\n",
      "[(60, 98), (22, 84), (50, 72)]\n",
      "[(59, 93), (39, 45), (16, 116)]\n",
      "[(87, 38), (93, 2), (121, 87)]\n",
      "[(14, 66), (37, 77), (96, 111)]\n",
      "[(91, 16), (103, 50), (54, 61)]\n"
     ]
    }
   ],
   "source": [
    "for i in A_matrix:\n",
    "    print(i)"
   ]
  },
  {
   "cell_type": "code",
   "execution_count": 475,
   "metadata": {},
   "outputs": [
    {
     "name": "stdout",
     "output_type": "stream",
     "text": [
      "83\n",
      "79\n",
      "65\n"
     ]
    }
   ],
   "source": [
    "print(bin_to_dec(char_to_bin('ki')))\n",
    "print(bin_to_dec(char_to_bin('ju')))\n",
    "print(bin_to_dec(char_to_bin('jg')))"
   ]
  },
  {
   "cell_type": "code",
   "execution_count": 476,
   "metadata": {},
   "outputs": [
    {
     "name": "stdout",
     "output_type": "stream",
     "text": [
      "[(103, 50, 14, 66, 37)]\n"
     ]
    }
   ],
   "source": [
    "x=1\n",
    "\n",
    "tuples = []\n",
    "for i in A_matrix[8]:\n",
    "    for j in A_matrix[7]:\n",
    "        for A87 in range(0,128):\n",
    "            A88 = i[0]\n",
    "            e8 = i[1]\n",
    "            A77 = j[0]\n",
    "            e7 = j[1]\n",
    "            t1 = F.Multiply(A77,field_pow(x,e7))\n",
    "            t1 = field_pow(t1,e7)\n",
    "            t1 = F.Multiply(A87,t1)\n",
    "            t2 = F.Multiply(A87,field_pow(x,e7))\n",
    "            t2 = field_pow(t2,e8)\n",
    "            t2 = F.Multiply(A88,t2)\n",
    "            t = F.Add(t1,t2)\n",
    "            t = field_pow(t,e8)\n",
    "            if(t==83):\n",
    "                tuples.append((i[0],i[1],j[0],j[1],A87))\n",
    "                \n",
    "x=2\n",
    "\n",
    "tuples2 = []\n",
    "for i in A_matrix[8]:\n",
    "    for j in A_matrix[7]:\n",
    "        for A87 in range(0,128):\n",
    "            A88 = i[0]\n",
    "            e8 = i[1]\n",
    "            A77 = j[0]\n",
    "            e7 = j[1]\n",
    "            t1 = F.Multiply(A77,field_pow(x,e7))\n",
    "            t1 = field_pow(t1,e7)\n",
    "            t1 = F.Multiply(A87,t1)\n",
    "            t2 = F.Multiply(A87,field_pow(x,e7))\n",
    "            t2 = field_pow(t2,e8)\n",
    "            t2 = F.Multiply(A88,t2)\n",
    "            t = F.Add(t1,t2)\n",
    "            t = field_pow(t,e8)\n",
    "            if(t==79):\n",
    "                tuples2.append((i[0],i[1],j[0],j[1],A87))\n",
    "\n",
    "x=3\n",
    "\n",
    "tuples3 = []\n",
    "for i in A_matrix[8]:\n",
    "    for j in A_matrix[7]:\n",
    "        for A87 in range(0,128):\n",
    "            A88 = i[0]\n",
    "            e8 = i[1]\n",
    "            A77 = j[0]\n",
    "            e7 = j[1]\n",
    "            t1 = F.Multiply(A77,field_pow(x,e7))\n",
    "            t1 = field_pow(t1,e7)\n",
    "            t1 = F.Multiply(A87,t1)\n",
    "            t2 = F.Multiply(A87,field_pow(x,e7))\n",
    "            t2 = field_pow(t2,e8)\n",
    "            t2 = F.Multiply(A88,t2)\n",
    "            t = F.Add(t1,t2)\n",
    "            t = field_pow(t,e8)\n",
    "            if(t==65):\n",
    "                tuples3.append((i[0],i[1],j[0],j[1],A87))\n",
    "\n",
    "tuples4 = list(set(tuples) & set(tuples2))\n",
    "tuples5 = list(set(tuples3) & set(tuples4))\n",
    "\n",
    "print(tuples5)"
   ]
  },
  {
   "cell_type": "code",
   "execution_count": 477,
   "metadata": {},
   "outputs": [
    {
     "name": "stdout",
     "output_type": "stream",
     "text": [
      "<class 'numpy.int64'>\n",
      "102\n",
      "45\n",
      "54\n",
      "100\n"
     ]
    }
   ],
   "source": [
    "A_map = np.zeros((9,9), dtype=int)\n",
    "A_map[8][8] = 103\n",
    "A_map[8][7] = 37\n",
    "A_map[7][7] = 14\n",
    "\n",
    "E_map = np.zeros(9, dtype=int)\n",
    "E_map[8] = 50\n",
    "E_map[7] = 66\n",
    "print(type(E_map[7]))\n",
    "\n",
    "print(bin_to_dec(char_to_bin('ll')))\n",
    "print(bin_to_dec(char_to_bin('hs')))\n",
    "print(bin_to_dec(char_to_bin('il')))\n",
    "print(bin_to_dec(char_to_bin('lj')))"
   ]
  },
  {
   "cell_type": "code",
   "execution_count": null,
   "metadata": {},
   "outputs": [],
   "source": []
  },
  {
   "cell_type": "code",
   "execution_count": null,
   "metadata": {},
   "outputs": [],
   "source": []
  },
  {
   "cell_type": "code",
   "execution_count": null,
   "metadata": {},
   "outputs": [],
   "source": []
  },
  {
   "cell_type": "code",
   "execution_count": null,
   "metadata": {},
   "outputs": [],
   "source": []
  },
  {
   "cell_type": "code",
   "execution_count": 478,
   "metadata": {},
   "outputs": [
    {
     "data": {
      "text/plain": [
       "20"
      ]
     },
     "execution_count": 478,
     "metadata": {},
     "output_type": "execute_result"
    }
   ],
   "source": [
    "string = []\n",
    "string.append(('', ''))\n",
    "string.append(('fokqiolmiuijgffs', 'gjggjrglkmhhmuhq', 'hqfhhufijmjufsfg'))\n",
    "string.append(('ffkhlojphmgjkhil', 'fffogtirilkjinku', 'ffmqkqfkiumkmhiq'))\n",
    "string.append(('ffffitkfgrlritmq', 'fffffmighnmlfpis', 'ffffiohtkmljgnlu'))\n",
    "string.append(('fffffffijsjkfhmf', 'fffffffjgtmrljfi', 'ffffffkrhtfohhfq'))\n",
    "string.append(('ffffffffingjgrhs', 'fffffffflgkogglk', 'ffffffffjilklhgq'))\n",
    "string.append(('ffffffffffljllil', 'ffffffffffkthslj', 'ffffffffffiphthi'))\n",
    "string.append(('ffffffffffffkoki', 'ffffffffffffhgju', 'ffffffffffffkljg'))\n",
    "string.append(('ffffffffffffffkh', 'ffffffffffffffkm', 'fffffffffffffffk'))\n",
    "\n",
    "bin_to_dec(char_to_bin('gj'))\n",
    "\n",
    "# val= []\n",
    "# val.append((0,0))\n",
    "# val.append((,bin_to_dec(char_to_bin('ll'))))\n",
    "# val[5][0] = bin_to_dec(char_to_bin('ll'))\n",
    "# val[5][1] = bin_to_dec(char_to_bin('ll'))\n",
    "# val[4][0] = bin_to_dec(char_to_bin('ll'))\n",
    "# val[4][1] = bin_to_dec(char_to_bin('ll'))\n",
    "# val[3][0] = bin_to_dec(char_to_bin('ll'))\n",
    "# val[3][1] = bin_to_dec(char_to_bin('ll'))\n",
    "# val[2][0] = bin_to_dec(char_to_bin('ll'))\n",
    "# val[2][1] = bin_to_dec(char_to_bin('ll'))\n",
    "# val[1][0] = bin_to_dec(char_to_bin('ll'))\n",
    "# val[1][1] = bin_to_dec(char_to_bin('ll'))"
   ]
  },
  {
   "cell_type": "code",
   "execution_count": 479,
   "metadata": {},
   "outputs": [
    {
     "name": "stdout",
     "output_type": "stream",
     "text": [
      "[(14, 66, 37)]\n",
      "[(87, 38, 44)]\n",
      "[(16, 116, 92)]\n",
      "[(50, 72, 10)]\n",
      "[(40, 38, 77)]\n",
      "[(56, 52, 121)]\n",
      "[(100, 85, 122)]\n"
     ]
    }
   ],
   "source": [
    "#diagonal and just below\n",
    "\n",
    "for ind in range(1,8):\n",
    "    i=8-ind\n",
    "    outval1 = bin_to_dec(char_to_bin(string[i][0][2*(i):2*(i+1)]))\n",
    "    outval2 = bin_to_dec(char_to_bin(string[i][1][2*(i):2*(i+1)]))\n",
    "    outval3 = bin_to_dec(char_to_bin(string[i][2][2*(i):2*(i+1)]))\n",
    "    x=1\n",
    "    tuples = []\n",
    "    for tups in A_matrix[i]:\n",
    "        for aipi in range(0,128):\n",
    "            aii = tups[0]\n",
    "            ei = tups[1]\n",
    "            t1 = F.Multiply(aii,field_pow(x,ei))\n",
    "            t1 = field_pow(t1,ei)\n",
    "            t1 = F.Multiply(aipi,t1)\n",
    "            t2 = F.Multiply(aipi,field_pow(x,ei))\n",
    "            t2 = field_pow(t2,E_map[i+1])\n",
    "            t2 = F.Multiply(A_map[i+1][i+1],t2)\n",
    "            t = F.Add(t1,t2)\n",
    "            t = field_pow(t,E_map[i+1])\n",
    "            if(t==outval1):\n",
    "                tuples.append((tups[0],tups[1],aipi))\n",
    "                \n",
    "    x=2\n",
    "    tuples2 = []\n",
    "    for tups in A_matrix[i]:\n",
    "        for aipi in range(0,128):\n",
    "            aii = tups[0]\n",
    "            ei = tups[1]\n",
    "            t1 = F.Multiply(aii,field_pow(x,ei))\n",
    "            t1 = field_pow(t1,ei)\n",
    "            t1 = F.Multiply(aipi,t1)\n",
    "            t2 = F.Multiply(aipi,field_pow(x,ei))\n",
    "            t2 = field_pow(t2,E_map[i+1])\n",
    "            t2 = F.Multiply(A_map[i+1][i+1],t2)\n",
    "            t = F.Add(t1,t2)\n",
    "            t = field_pow(t,E_map[i+1])\n",
    "            if(t==outval2):\n",
    "                tuples2.append((tups[0],tups[1],aipi))\n",
    "                \n",
    "    x=3\n",
    "    tuples3 = []\n",
    "    for tups in A_matrix[i]:\n",
    "        for aipi in range(0,128):\n",
    "            aii = tups[0]\n",
    "            ei = tups[1]\n",
    "            t1 = F.Multiply(aii,field_pow(x,ei))\n",
    "            t1 = field_pow(t1,ei)\n",
    "            t1 = F.Multiply(aipi,t1)\n",
    "            t2 = F.Multiply(aipi,field_pow(x,ei))\n",
    "            t2 = field_pow(t2,E_map[i+1])\n",
    "            t2 = F.Multiply(A_map[i+1][i+1],t2)\n",
    "            t = F.Add(t1,t2)\n",
    "            t = field_pow(t,E_map[i+1])\n",
    "            if(t==outval3):\n",
    "                tuples3.append((tups[0],tups[1],aipi))\n",
    "                \n",
    "    tuples4 = list(set(tuples) & set(tuples2))\n",
    "    tuples5 = list(set(tuples4) & set(tuples3))\n",
    "    print(tuples5)\n",
    "    A_map[i][i]=tuples5[0][0]\n",
    "    A_map[i+1][i]=tuples5[0][2]\n",
    "    E_map[i]=tuples5[0][1]"
   ]
  },
  {
   "cell_type": "code",
   "execution_count": 480,
   "metadata": {},
   "outputs": [
    {
     "name": "stdout",
     "output_type": "stream",
     "text": [
      "[[  0   0   0   0   0   0   0   0   0]\n",
      " [  0 100   0   0   0   0   0   0   0]\n",
      " [  0 122  56   0   0   0   0   0   0]\n",
      " [  0   0 121  40   0   0   0   0   0]\n",
      " [  0   0   0  77  50   0   0   0   0]\n",
      " [  0   0   0   0  10  16   0   0   0]\n",
      " [  0   0   0   0   0  92  87   0   0]\n",
      " [  0   0   0   0   0   0  44  14   0]\n",
      " [  0   0   0   0   0   0   0  37 103]] [  0  85  52  38  72 116  38  66  50]\n"
     ]
    }
   ],
   "source": [
    "print(A_map,E_map)"
   ]
  },
  {
   "cell_type": "code",
   "execution_count": 481,
   "metadata": {},
   "outputs": [
    {
     "name": "stdout",
     "output_type": "stream",
     "text": [
      "[17] [17, 20, 40]\n",
      "[17]\n",
      "[104] [26, 104]\n",
      "[104]\n",
      "[116] [34, 81, 116]\n",
      "[116]\n",
      "[78] [78]\n",
      "[78]\n",
      "[1, 79, 97] [97]\n",
      "[97]\n",
      "[6] [6, 7, 68]\n",
      "[6]\n"
     ]
    }
   ],
   "source": [
    "for ind in range(1,7):\n",
    "    j=7\n",
    "    i=7-ind\n",
    "    outval = bin_to_dec(char_to_bin(string[i][1][2*(i+1):2*(i+2)]))\n",
    "    x=2\n",
    "    tuples = []\n",
    "    for aip2i in range(0,128):\n",
    "        t1 = F.Multiply(A_map[i][i],field_pow(x,E_map[i]))\n",
    "        t1 = field_pow(t1,E_map[i])\n",
    "        t1 = F.Multiply(t1,aip2i)\n",
    "        \n",
    "        t2 = F.Multiply(A_map[i+1][i],field_pow(x,E_map[i]))\n",
    "        t2 = field_pow(t2,E_map[i+1])\n",
    "        t2 = F.Multiply(t2,A_map[i+2][i+1])\n",
    "        \n",
    "        t3 = F.Multiply(aip2i,field_pow(x,E_map[i]))\n",
    "        t3 = field_pow(t3,E_map[i+2])\n",
    "        t3 = F.Multiply(t3,A_map[i+2][i+2])\n",
    "        \n",
    "        t1 = F.Add(t1,t2)\n",
    "        t = F.Add(t1,t3)\n",
    "        t = field_pow(t,E_map[i+2])\n",
    "        if(t==outval):\n",
    "            tuples.append(aip2i)\n",
    "            \n",
    "\n",
    "            \n",
    "    outval2 = bin_to_dec(char_to_bin(string[i][2][2*(i+1):2*(i+2)]))\n",
    "    x=3\n",
    "    tuples2 = []\n",
    "    for aip2i in range(0,128):\n",
    "        t1 = F.Multiply(A_map[i][i],field_pow(x,E_map[i]))\n",
    "        t1 = field_pow(t1,E_map[i])\n",
    "        t1 = F.Multiply(t1,aip2i)\n",
    "        \n",
    "        t2 = F.Multiply(A_map[i+1][i],field_pow(x,E_map[i]))\n",
    "        t2 = field_pow(t2,E_map[i+1])\n",
    "        t2 = F.Multiply(t2,A_map[i+2][i+1])\n",
    "        \n",
    "        t3 = F.Multiply(aip2i,field_pow(x,E_map[i]))\n",
    "        t3 = field_pow(t3,E_map[i+2])\n",
    "        t3 = F.Multiply(t3,A_map[i+2][i+2])\n",
    "        \n",
    "        t1 = F.Add(t1,t2)\n",
    "        t = F.Add(t1,t3)\n",
    "        t = field_pow(t,E_map[i+2])\n",
    "        if(t==outval2):\n",
    "            tuples2.append(aip2i)\n",
    "    \n",
    "    print(tuples,tuples2)\n",
    "    tuples3 = list(set(tuples) & set(tuples2))\n",
    "    print(tuples3)\n",
    "    A_map[i+2][i] = tuples3[0]"
   ]
  },
  {
   "cell_type": "code",
   "execution_count": 482,
   "metadata": {},
   "outputs": [
    {
     "name": "stdout",
     "output_type": "stream",
     "text": [
      "[[  0   0   0   0   0   0   0   0   0]\n",
      " [  0 100   0   0   0   0   0   0   0]\n",
      " [  0 122  56   0   0   0   0   0   0]\n",
      " [  0   6 121  40   0   0   0   0   0]\n",
      " [  0   0  97  77  50   0   0   0   0]\n",
      " [  0   0   0  78  10  16   0   0   0]\n",
      " [  0   0   0   0 116  92  87   0   0]\n",
      " [  0   0   0   0   0 104  44  14   0]\n",
      " [  0   0   0   0   0   0  17  37 103]]\n"
     ]
    }
   ],
   "source": [
    "print(A_map)"
   ]
  },
  {
   "cell_type": "code",
   "execution_count": 483,
   "metadata": {},
   "outputs": [
    {
     "name": "stdout",
     "output_type": "stream",
     "text": [
      "[113]\n",
      "[92]\n",
      "[114]\n",
      "[14]\n",
      "[10]\n"
     ]
    }
   ],
   "source": [
    "for ind in range(1,6):\n",
    "    j=7\n",
    "    i=6-ind\n",
    "    outval = bin_to_dec(char_to_bin(string[i][1][2*(i+2):2*(i+3)]))\n",
    "    x=2\n",
    "    tuples = []\n",
    "    for aip3i in range(0,128):\n",
    "        t1 = F.Multiply(A_map[i][i],field_pow(x,E_map[i]))\n",
    "        t1 = field_pow(t1,E_map[i])\n",
    "        t1 = F.Multiply(t1,aip3i)\n",
    "        \n",
    "        t2 = F.Multiply(A_map[i+1][i],field_pow(x,E_map[i]))\n",
    "        t2 = field_pow(t2,E_map[i+1])\n",
    "        t2 = F.Multiply(t2,A_map[i+3][i+1])\n",
    "        \n",
    "        t3 = F.Multiply(A_map[i+2][i],field_pow(x,E_map[i]))\n",
    "        t3 = field_pow(t3,E_map[i+2])\n",
    "        t3 = F.Multiply(t3,A_map[i+3][i+2])\n",
    "        \n",
    "        t4 = F.Multiply(aip3i,field_pow(x,E_map[i]))\n",
    "        t4 = field_pow(t4,E_map[i+3])\n",
    "        t4 = F.Multiply(t4,A_map[i+3][i+3])\n",
    "        \n",
    "        ta = F.Add(t1,t2)\n",
    "        tb = F.Add(ta,t3)\n",
    "        tc = F.Add(tb,t4)\n",
    "        t = field_pow(tc,E_map[i+3])\n",
    "        if(t==outval):\n",
    "            tuples.append(aip3i)\n",
    "            \n",
    "    outval2 = bin_to_dec(char_to_bin(string[i][2][2*(i+2):2*(i+3)]))\n",
    "    x=3\n",
    "    tuples2 = []\n",
    "    for aip3i in range(0,128):\n",
    "        t1 = F.Multiply(A_map[i][i],field_pow(x,E_map[i]))\n",
    "        t1 = field_pow(t1,E_map[i])\n",
    "        t1 = F.Multiply(t1,aip3i)\n",
    "        \n",
    "        t2 = F.Multiply(A_map[i+1][i],field_pow(x,E_map[i]))\n",
    "        t2 = field_pow(t2,E_map[i+1])\n",
    "        t2 = F.Multiply(t2,A_map[i+3][i+1])\n",
    "        \n",
    "        t3 = F.Multiply(A_map[i+2][i],field_pow(x,E_map[i]))\n",
    "        t3 = field_pow(t3,E_map[i+2])\n",
    "        t3 = F.Multiply(t3,A_map[i+3][i+2])\n",
    "        \n",
    "        t4 = F.Multiply(aip3i,field_pow(x,E_map[i]))\n",
    "        t4 = field_pow(t4,E_map[i+3])\n",
    "        t4 = F.Multiply(t4,A_map[i+3][i+3])\n",
    "        \n",
    "        ta = F.Add(t1,t2)\n",
    "        tb = F.Add(ta,t3)\n",
    "        tc = F.Add(tb,t4)\n",
    "        t = field_pow(tc,E_map[i+3])\n",
    "        if(t==outval2):\n",
    "            tuples2.append(aip3i)\n",
    "            \n",
    "    tuples3 = list(set(tuples) & set(tuples2))\n",
    "    print(tuples3)\n",
    "    A_map[i+3][i] = tuples3[0]"
   ]
  },
  {
   "cell_type": "code",
   "execution_count": 484,
   "metadata": {},
   "outputs": [
    {
     "name": "stdout",
     "output_type": "stream",
     "text": [
      "[[  0   0   0   0   0   0   0   0   0]\n",
      " [  0 100   0   0   0   0   0   0   0]\n",
      " [  0 122  56   0   0   0   0   0   0]\n",
      " [  0   6 121  40   0   0   0   0   0]\n",
      " [  0  10  97  77  50   0   0   0   0]\n",
      " [  0   0  14  78  10  16   0   0   0]\n",
      " [  0   0   0 114 116  92  87   0   0]\n",
      " [  0   0   0   0  92 104  44  14   0]\n",
      " [  0   0   0   0   0 113  17  37 103]]\n"
     ]
    }
   ],
   "source": [
    "print(A_map)"
   ]
  },
  {
   "cell_type": "code",
   "execution_count": 485,
   "metadata": {},
   "outputs": [
    {
     "name": "stdout",
     "output_type": "stream",
     "text": [
      "[58]\n",
      "[98]\n",
      "[76]\n",
      "[58]\n"
     ]
    }
   ],
   "source": [
    "for ind in range(1,5):\n",
    "    j=7\n",
    "    i=5-ind\n",
    "    outval = bin_to_dec(char_to_bin(string[i][1][2*(i+3):2*(i+4)]))\n",
    "    x=2\n",
    "    tuples = []\n",
    "    for aip4i in range(0,128):\n",
    "        t1 = F.Multiply(A_map[i][i],field_pow(x,E_map[i]))\n",
    "        t1 = field_pow(t1,E_map[i])\n",
    "        t1 = F.Multiply(t1,aip4i)\n",
    "        \n",
    "        t2 = F.Multiply(A_map[i+1][i],field_pow(x,E_map[i]))\n",
    "        t2 = field_pow(t2,E_map[i+1])\n",
    "        t2 = F.Multiply(t2,A_map[i+4][i+1])\n",
    "        \n",
    "        t3 = F.Multiply(A_map[i+2][i],field_pow(x,E_map[i]))\n",
    "        t3 = field_pow(t3,E_map[i+2])\n",
    "        t3 = F.Multiply(t3,A_map[i+4][i+2])\n",
    "        \n",
    "        t4 = F.Multiply(A_map[i+3][i],field_pow(x,E_map[i]))\n",
    "        t4 = field_pow(t4,E_map[i+3])\n",
    "        t4 = F.Multiply(t4,A_map[i+4][i+3])\n",
    "        \n",
    "        t5 = F.Multiply(aip4i,field_pow(x,E_map[i]))\n",
    "        t5 = field_pow(t5,E_map[i+4])\n",
    "        t5 = F.Multiply(t5,A_map[i+4][i+4])\n",
    "        \n",
    "        t1 = F.Add(t1,t2)\n",
    "        t2 = F.Add(t1,t3)\n",
    "        t = F.Add(t2,t4)\n",
    "        t = F.Add(t,t5)\n",
    "        t = field_pow(t,E_map[i+4])\n",
    "        if(t==outval):\n",
    "            tuples.append(aip4i)\n",
    "            \n",
    "    outval2 = bin_to_dec(char_to_bin(string[i][2][2*(i+3):2*(i+4)]))\n",
    "    x=3\n",
    "    tuples2 = []\n",
    "    for aip4i in range(0,128):\n",
    "        t1 = F.Multiply(A_map[i][i],field_pow(x,E_map[i]))\n",
    "        t1 = field_pow(t1,E_map[i])\n",
    "        t1 = F.Multiply(t1,aip4i)\n",
    "        \n",
    "        t2 = F.Multiply(A_map[i+1][i],field_pow(x,E_map[i]))\n",
    "        t2 = field_pow(t2,E_map[i+1])\n",
    "        t2 = F.Multiply(t2,A_map[i+4][i+1])\n",
    "        \n",
    "        t3 = F.Multiply(A_map[i+2][i],field_pow(x,E_map[i]))\n",
    "        t3 = field_pow(t3,E_map[i+2])\n",
    "        t3 = F.Multiply(t3,A_map[i+4][i+2])\n",
    "        \n",
    "        t4 = F.Multiply(A_map[i+3][i],field_pow(x,E_map[i]))\n",
    "        t4 = field_pow(t4,E_map[i+3])\n",
    "        t4 = F.Multiply(t4,A_map[i+4][i+3])\n",
    "        \n",
    "        t5 = F.Multiply(aip4i,field_pow(x,E_map[i]))\n",
    "        t5 = field_pow(t5,E_map[i+4])\n",
    "        t5 = F.Multiply(t5,A_map[i+4][i+4])\n",
    "        \n",
    "        t1 = F.Add(t1,t2)\n",
    "        t2 = F.Add(t1,t3)\n",
    "        t = F.Add(t2,t4)\n",
    "        t = F.Add(t,t5)\n",
    "        t = field_pow(t,E_map[i+4])\n",
    "        if(t==outval2):\n",
    "            tuples2.append(aip4i)\n",
    "            \n",
    "    tuples3 = list(set(tuples) & set(tuples2))\n",
    "    print(tuples3)\n",
    "    A_map[i+4][i] = tuples3[0]"
   ]
  },
  {
   "cell_type": "code",
   "execution_count": 486,
   "metadata": {},
   "outputs": [
    {
     "name": "stdout",
     "output_type": "stream",
     "text": [
      "[[  0   0   0   0   0   0   0   0   0]\n",
      " [  0 100   0   0   0   0   0   0   0]\n",
      " [  0 122  56   0   0   0   0   0   0]\n",
      " [  0   6 121  40   0   0   0   0   0]\n",
      " [  0  10  97  77  50   0   0   0   0]\n",
      " [  0  58  14  78  10  16   0   0   0]\n",
      " [  0   0  76 114 116  92  87   0   0]\n",
      " [  0   0   0  98  92 104  44  14   0]\n",
      " [  0   0   0   0  58 113  17  37 103]]\n"
     ]
    }
   ],
   "source": [
    "print(A_map)"
   ]
  },
  {
   "cell_type": "code",
   "execution_count": 487,
   "metadata": {},
   "outputs": [
    {
     "name": "stdout",
     "output_type": "stream",
     "text": [
      "[54]\n",
      "[30]\n",
      "[9]\n"
     ]
    }
   ],
   "source": [
    "for ind in range(1,4):\n",
    "    j=7\n",
    "    i=4-ind\n",
    "    outval = bin_to_dec(char_to_bin(string[i][1][2*(i+4):2*(i+5)]))\n",
    "    x=2\n",
    "    tuples = []\n",
    "    for aip5i in range(0,128):\n",
    "        t1 = F.Multiply(A_map[i][i],field_pow(x,E_map[i]))\n",
    "        t1 = field_pow(t1,E_map[i])\n",
    "        t1 = F.Multiply(t1,aip5i)\n",
    "        \n",
    "        t2 = F.Multiply(A_map[i+1][i],field_pow(x,E_map[i]))\n",
    "        t2 = field_pow(t2,E_map[i+1])\n",
    "        t2 = F.Multiply(t2,A_map[i+5][i+1])\n",
    "        \n",
    "        t3 = F.Multiply(A_map[i+2][i],field_pow(x,E_map[i]))\n",
    "        t3 = field_pow(t3,E_map[i+2])\n",
    "        t3 = F.Multiply(t3,A_map[i+5][i+2])\n",
    "        \n",
    "        t4 = F.Multiply(A_map[i+3][i],field_pow(x,E_map[i]))\n",
    "        t4 = field_pow(t4,E_map[i+3])\n",
    "        t4 = F.Multiply(t4,A_map[i+5][i+3])\n",
    "        \n",
    "        t5 = F.Multiply(A_map[i+4][i],field_pow(x,E_map[i]))\n",
    "        t5 = field_pow(t5,E_map[i+4])\n",
    "        t5 = F.Multiply(t5,A_map[i+5][i+4])\n",
    "        \n",
    "        t6 = F.Multiply(aip5i,field_pow(x,E_map[i]))\n",
    "        t6 = field_pow(t6,E_map[i+5])\n",
    "        t6 = F.Multiply(t6,A_map[i+5][i+5])\n",
    "        \n",
    "        t = F.Add(t1,t2)\n",
    "        t = F.Add(t,t3)\n",
    "        t = F.Add(t,t4)\n",
    "        t = F.Add(t,t5)\n",
    "        t = F.Add(t,t6)\n",
    "        \n",
    "        t = field_pow(t,E_map[i+5])\n",
    "        if(t==outval):\n",
    "            tuples.append(aip5i)\n",
    "            \n",
    "    outval2 = bin_to_dec(char_to_bin(string[i][2][2*(i+4):2*(i+5)]))\n",
    "    x=3\n",
    "    tuples2 = []\n",
    "    for aip5i in range(0,128):\n",
    "        t1 = F.Multiply(A_map[i][i],field_pow(x,E_map[i]))\n",
    "        t1 = field_pow(t1,E_map[i])\n",
    "        t1 = F.Multiply(t1,aip5i)\n",
    "        \n",
    "        t2 = F.Multiply(A_map[i+1][i],field_pow(x,E_map[i]))\n",
    "        t2 = field_pow(t2,E_map[i+1])\n",
    "        t2 = F.Multiply(t2,A_map[i+5][i+1])\n",
    "        \n",
    "        t3 = F.Multiply(A_map[i+2][i],field_pow(x,E_map[i]))\n",
    "        t3 = field_pow(t3,E_map[i+2])\n",
    "        t3 = F.Multiply(t3,A_map[i+5][i+2])\n",
    "        \n",
    "        t4 = F.Multiply(A_map[i+3][i],field_pow(x,E_map[i]))\n",
    "        t4 = field_pow(t4,E_map[i+3])\n",
    "        t4 = F.Multiply(t4,A_map[i+5][i+3])\n",
    "        \n",
    "        t5 = F.Multiply(A_map[i+4][i],field_pow(x,E_map[i]))\n",
    "        t5 = field_pow(t5,E_map[i+4])\n",
    "        t5 = F.Multiply(t5,A_map[i+5][i+4])\n",
    "        \n",
    "        t6 = F.Multiply(aip5i,field_pow(x,E_map[i]))\n",
    "        t6 = field_pow(t6,E_map[i+5])\n",
    "        t6 = F.Multiply(t6,A_map[i+5][i+5])\n",
    "        \n",
    "        t = F.Add(t1,t2)\n",
    "        t = F.Add(t,t3)\n",
    "        t = F.Add(t,t4)\n",
    "        t = F.Add(t,t5)\n",
    "        t = F.Add(t,t6)\n",
    "        \n",
    "        t = field_pow(t,E_map[i+5])\n",
    "        if(t==outval2):\n",
    "            tuples2.append(aip5i)\n",
    "            \n",
    "    tuples3 = list(set(tuples) & set(tuples2))\n",
    "    print(tuples3)\n",
    "    A_map[i+5][i] = tuples3[0]"
   ]
  },
  {
   "cell_type": "code",
   "execution_count": 488,
   "metadata": {},
   "outputs": [
    {
     "name": "stdout",
     "output_type": "stream",
     "text": [
      "[[  0   0   0   0   0   0   0   0   0]\n",
      " [  0 100   0   0   0   0   0   0   0]\n",
      " [  0 122  56   0   0   0   0   0   0]\n",
      " [  0   6 121  40   0   0   0   0   0]\n",
      " [  0  10  97  77  50   0   0   0   0]\n",
      " [  0  58  14  78  10  16   0   0   0]\n",
      " [  0   9  76 114 116  92  87   0   0]\n",
      " [  0   0  30  98  92 104  44  14   0]\n",
      " [  0   0   0  54  58 113  17  37 103]]\n"
     ]
    }
   ],
   "source": [
    "print(A_map)"
   ]
  },
  {
   "cell_type": "code",
   "execution_count": 489,
   "metadata": {},
   "outputs": [
    {
     "name": "stdout",
     "output_type": "stream",
     "text": [
      "[91]\n",
      "[104]\n"
     ]
    }
   ],
   "source": [
    "for ind in range(1,3):\n",
    "    j=7\n",
    "    i=3-ind\n",
    "    outval = bin_to_dec(char_to_bin(string[i][1][2*(i+5):2*(i+6)]))\n",
    "    x=2\n",
    "    tuples = []\n",
    "    for aip6i in range(0,128):\n",
    "        t1 = F.Multiply(A_map[i][i],field_pow(x,E_map[i]))\n",
    "        t1 = field_pow(t1,E_map[i])\n",
    "        t1 = F.Multiply(t1,aip6i)\n",
    "        \n",
    "        t2 = F.Multiply(A_map[i+1][i],field_pow(x,E_map[i]))\n",
    "        t2 = field_pow(t2,E_map[i+1])\n",
    "        t2 = F.Multiply(t2,A_map[i+6][i+1])\n",
    "        \n",
    "        t3 = F.Multiply(A_map[i+2][i],field_pow(x,E_map[i]))\n",
    "        t3 = field_pow(t3,E_map[i+2])\n",
    "        t3 = F.Multiply(t3,A_map[i+6][i+2])\n",
    "        \n",
    "        t4 = F.Multiply(A_map[i+3][i],field_pow(x,E_map[i]))\n",
    "        t4 = field_pow(t4,E_map[i+3])\n",
    "        t4 = F.Multiply(t4,A_map[i+6][i+3])\n",
    "        \n",
    "        t5 = F.Multiply(A_map[i+4][i],field_pow(x,E_map[i]))\n",
    "        t5 = field_pow(t5,E_map[i+4])\n",
    "        t5 = F.Multiply(t5,A_map[i+6][i+4])\n",
    "        \n",
    "        t6 = F.Multiply(A_map[i+5][i],field_pow(x,E_map[i]))\n",
    "        t6 = field_pow(t6,E_map[i+5])\n",
    "        t6 = F.Multiply(t6,A_map[i+6][i+5])\n",
    "        \n",
    "        t7 = F.Multiply(aip6i,field_pow(x,E_map[i]))\n",
    "        t7 = field_pow(t7,E_map[i+6])\n",
    "        t7 = F.Multiply(t7,A_map[i+6][i+6])\n",
    "        \n",
    "        t = F.Add(t1,t2)\n",
    "        t = F.Add(t,t3)\n",
    "        t = F.Add(t,t4)\n",
    "        t = F.Add(t,t5)\n",
    "        t = F.Add(t,t6)\n",
    "        t = F.Add(t,t7)\n",
    "        \n",
    "        t = field_pow(t,E_map[i+6])\n",
    "        if(t==outval):\n",
    "            tuples.append(aip6i)\n",
    "            \n",
    "    outval2 = bin_to_dec(char_to_bin(string[i][2][2*(i+5):2*(i+6)]))\n",
    "    x=3\n",
    "    tuples2 = []\n",
    "    for aip6i in range(0,128):\n",
    "        t1 = F.Multiply(A_map[i][i],field_pow(x,E_map[i]))\n",
    "        t1 = field_pow(t1,E_map[i])\n",
    "        t1 = F.Multiply(t1,aip6i)\n",
    "        \n",
    "        t2 = F.Multiply(A_map[i+1][i],field_pow(x,E_map[i]))\n",
    "        t2 = field_pow(t2,E_map[i+1])\n",
    "        t2 = F.Multiply(t2,A_map[i+6][i+1])\n",
    "        \n",
    "        t3 = F.Multiply(A_map[i+2][i],field_pow(x,E_map[i]))\n",
    "        t3 = field_pow(t3,E_map[i+2])\n",
    "        t3 = F.Multiply(t3,A_map[i+6][i+2])\n",
    "        \n",
    "        t4 = F.Multiply(A_map[i+3][i],field_pow(x,E_map[i]))\n",
    "        t4 = field_pow(t4,E_map[i+3])\n",
    "        t4 = F.Multiply(t4,A_map[i+6][i+3])\n",
    "        \n",
    "        t5 = F.Multiply(A_map[i+4][i],field_pow(x,E_map[i]))\n",
    "        t5 = field_pow(t5,E_map[i+4])\n",
    "        t5 = F.Multiply(t5,A_map[i+6][i+4])\n",
    "        \n",
    "        t6 = F.Multiply(A_map[i+5][i],field_pow(x,E_map[i]))\n",
    "        t6 = field_pow(t6,E_map[i+5])\n",
    "        t6 = F.Multiply(t6,A_map[i+6][i+5])\n",
    "        \n",
    "        t7 = F.Multiply(aip6i,field_pow(x,E_map[i]))\n",
    "        t7 = field_pow(t7,E_map[i+6])\n",
    "        t7 = F.Multiply(t7,A_map[i+6][i+6])\n",
    "        \n",
    "        t = F.Add(t1,t2)\n",
    "        t = F.Add(t,t3)\n",
    "        t = F.Add(t,t4)\n",
    "        t = F.Add(t,t5)\n",
    "        t = F.Add(t,t6)\n",
    "        t = F.Add(t,t7)\n",
    "        \n",
    "        t = field_pow(t,E_map[i+6])\n",
    "        if(t==outval2):\n",
    "            tuples2.append(aip6i)\n",
    "    \n",
    "    tuples3 = list(set(tuples) & set(tuples2))\n",
    "    print(tuples3)\n",
    "    A_map[i+6][i] = tuples3[0]"
   ]
  },
  {
   "cell_type": "code",
   "execution_count": 490,
   "metadata": {},
   "outputs": [
    {
     "name": "stdout",
     "output_type": "stream",
     "text": [
      "[[  0   0   0   0   0   0   0   0   0]\n",
      " [  0 100   0   0   0   0   0   0   0]\n",
      " [  0 122  56   0   0   0   0   0   0]\n",
      " [  0   6 121  40   0   0   0   0   0]\n",
      " [  0  10  97  77  50   0   0   0   0]\n",
      " [  0  58  14  78  10  16   0   0   0]\n",
      " [  0   9  76 114 116  92  87   0   0]\n",
      " [  0 104  30  98  92 104  44  14   0]\n",
      " [  0   0  91  54  58 113  17  37 103]]\n"
     ]
    }
   ],
   "source": [
    "print(A_map)"
   ]
  },
  {
   "cell_type": "code",
   "execution_count": 491,
   "metadata": {},
   "outputs": [
    {
     "name": "stdout",
     "output_type": "stream",
     "text": [
      "[13]\n"
     ]
    }
   ],
   "source": [
    "for ind in range(1,2):\n",
    "    j=7\n",
    "    i=2-ind\n",
    "    outval = bin_to_dec(char_to_bin(string[i][1][2*(i+6):2*(i+7)]))\n",
    "    tuples = []\n",
    "    x=2\n",
    "    for aip7i in range(0,128):\n",
    "        t1 = F.Multiply(A_map[i][i],field_pow(x,E_map[i]))\n",
    "        t1 = field_pow(t1,E_map[i])\n",
    "        t1 = F.Multiply(t1,aip7i)\n",
    "        \n",
    "        t2 = F.Multiply(A_map[i+1][i],field_pow(x,E_map[i]))\n",
    "        t2 = field_pow(t2,E_map[i+1])\n",
    "        t2 = F.Multiply(t2,A_map[i+7][i+1])\n",
    "        \n",
    "        t3 = F.Multiply(A_map[i+2][i],field_pow(x,E_map[i]))\n",
    "        t3 = field_pow(t3,E_map[i+2])\n",
    "        t3 = F.Multiply(t3,A_map[i+7][i+2])\n",
    "        \n",
    "        t4 = F.Multiply(A_map[i+3][i],field_pow(x,E_map[i]))\n",
    "        t4 = field_pow(t4,E_map[i+3])\n",
    "        t4 = F.Multiply(t4,A_map[i+7][i+3])\n",
    "        \n",
    "        t5 = F.Multiply(A_map[i+4][i],field_pow(x,E_map[i]))\n",
    "        t5 = field_pow(t5,E_map[i+4])\n",
    "        t5 = F.Multiply(t5,A_map[i+7][i+4])\n",
    "        \n",
    "        t6 = F.Multiply(A_map[i+5][i],field_pow(x,E_map[i]))\n",
    "        t6 = field_pow(t6,E_map[i+5])\n",
    "        t6 = F.Multiply(t6,A_map[i+7][i+5])\n",
    "        \n",
    "        t7 = F.Multiply(A_map[i+6][i],field_pow(x,E_map[i]))\n",
    "        t7 = field_pow(t7,E_map[i+6])\n",
    "        t7 = F.Multiply(t7,A_map[i+7][i+6])\n",
    "        \n",
    "        t8 = F.Multiply(aip7i,field_pow(x,E_map[i]))\n",
    "        t8 = field_pow(t8,E_map[i+7])\n",
    "        t8 = F.Multiply(t8,A_map[i+7][i+7])\n",
    "        \n",
    "        t = F.Add(t1,t2)\n",
    "        t = F.Add(t,t3)\n",
    "        t = F.Add(t,t4)\n",
    "        t = F.Add(t,t5)\n",
    "        t = F.Add(t,t6)\n",
    "        t = F.Add(t,t7)\n",
    "        t = F.Add(t,t8)\n",
    "        \n",
    "        t = field_pow(t,E_map[i+7])\n",
    "        if(t==outval):\n",
    "            tuples.append(aip7i)\n",
    "            \n",
    "    outval2 = bin_to_dec(char_to_bin(string[i][2][2*(i+6):2*(i+7)]))\n",
    "    tuples2 = []\n",
    "    x=3\n",
    "    for aip7i in range(0,128):\n",
    "        t1 = F.Multiply(A_map[i][i],field_pow(x,E_map[i]))\n",
    "        t1 = field_pow(t1,E_map[i])\n",
    "        t1 = F.Multiply(t1,aip7i)\n",
    "        \n",
    "        t2 = F.Multiply(A_map[i+1][i],field_pow(x,E_map[i]))\n",
    "        t2 = field_pow(t2,E_map[i+1])\n",
    "        t2 = F.Multiply(t2,A_map[i+7][i+1])\n",
    "        \n",
    "        t3 = F.Multiply(A_map[i+2][i],field_pow(x,E_map[i]))\n",
    "        t3 = field_pow(t3,E_map[i+2])\n",
    "        t3 = F.Multiply(t3,A_map[i+7][i+2])\n",
    "        \n",
    "        t4 = F.Multiply(A_map[i+3][i],field_pow(x,E_map[i]))\n",
    "        t4 = field_pow(t4,E_map[i+3])\n",
    "        t4 = F.Multiply(t4,A_map[i+7][i+3])\n",
    "        \n",
    "        t5 = F.Multiply(A_map[i+4][i],field_pow(x,E_map[i]))\n",
    "        t5 = field_pow(t5,E_map[i+4])\n",
    "        t5 = F.Multiply(t5,A_map[i+7][i+4])\n",
    "        \n",
    "        t6 = F.Multiply(A_map[i+5][i],field_pow(x,E_map[i]))\n",
    "        t6 = field_pow(t6,E_map[i+5])\n",
    "        t6 = F.Multiply(t6,A_map[i+7][i+5])\n",
    "        \n",
    "        t7 = F.Multiply(A_map[i+6][i],field_pow(x,E_map[i]))\n",
    "        t7 = field_pow(t7,E_map[i+6])\n",
    "        t7 = F.Multiply(t7,A_map[i+7][i+6])\n",
    "        \n",
    "        t8 = F.Multiply(aip7i,field_pow(x,E_map[i]))\n",
    "        t8 = field_pow(t8,E_map[i+7])\n",
    "        t8 = F.Multiply(t8,A_map[i+7][i+7])\n",
    "        \n",
    "        t = F.Add(t1,t2)\n",
    "        t = F.Add(t,t3)\n",
    "        t = F.Add(t,t4)\n",
    "        t = F.Add(t,t5)\n",
    "        t = F.Add(t,t6)\n",
    "        t = F.Add(t,t7)\n",
    "        t = F.Add(t,t8)\n",
    "        \n",
    "        t = field_pow(t,E_map[i+7])\n",
    "        if(t==outval2):\n",
    "            tuples2.append(aip7i)\n",
    "            \n",
    "    tuples3 = list(set(tuples) & set(tuples2))\n",
    "    print(tuples3)\n",
    "    A_map[i+7][i] = tuples3[0]"
   ]
  },
  {
   "cell_type": "code",
   "execution_count": 492,
   "metadata": {},
   "outputs": [
    {
     "name": "stdout",
     "output_type": "stream",
     "text": [
      "[[  0   0   0   0   0   0   0   0   0]\n",
      " [  0 100   0   0   0   0   0   0   0]\n",
      " [  0 122  56   0   0   0   0   0   0]\n",
      " [  0   6 121  40   0   0   0   0   0]\n",
      " [  0  10  97  77  50   0   0   0   0]\n",
      " [  0  58  14  78  10  16   0   0   0]\n",
      " [  0   9  76 114 116  92  87   0   0]\n",
      " [  0 104  30  98  92 104  44  14   0]\n",
      " [  0  13  91  54  58 113  17  37 103]] [  0  85  52  38  72 116  38  66  50]\n"
     ]
    }
   ],
   "source": [
    "print(A_map,E_map)"
   ]
  },
  {
   "cell_type": "code",
   "execution_count": 520,
   "metadata": {},
   "outputs": [],
   "source": [
    "#############################\n",
    "#    FINDING THE PLAIN-TEXT  ######\n",
    "#############################"
   ]
  },
  {
   "cell_type": "code",
   "execution_count": 626,
   "metadata": {},
   "outputs": [],
   "source": [
    "import urllib3\n",
    "import urllib3.request\n",
    "import requests\n",
    "import json"
   ]
  },
  {
   "cell_type": "code",
   "execution_count": null,
   "metadata": {},
   "outputs": [],
   "source": []
  },
  {
   "cell_type": "code",
   "execution_count": 648,
   "metadata": {},
   "outputs": [],
   "source": [
    "password = \"03de04de2867bb235d1026755622319d\"\n",
    "teamname = \"codemeisters\"\n",
    "api_url = \"https://172.27.26.181:9996/eaeae\"\n",
    "hdr = { \"Accept\": \"/\", \"Accept-Encoding\": \"gzip, deflate, br\", \"Accept-Language\": \"en-US,en-IN;q=0.9,en-GB;q=0.8,en;q=0.7\", \"Connection\": \"keep-alive\", \"Content-Length\": \"85\", \"Content-Type\": \"text/html; charset=utf-8\", \"Host\": \"172.27.26.181:9996\", \"Origin\": \"https://172.27.26.181:9996\", \"Referer\": \"https://172.27.26.181:9996/game/caves.swf\", \"Sec-Fetch-Mode\": \"no-cors\", \"Sec-Fetch-Site\": \"same-origin\", \"User-Agent\": \"Mozilla/5.0 (Windows NT 10.0; Win64; x64) AppleWebKit/537.36 (KHTML, like Gecko) Chrome/79.0.3945.130 Safari/537.36\", \"X-Requested-With\": \"ShockwaveFlash/32.0.0.330\" }\n",
    "\n",
    "def encoder(text):\n",
    "    urllib3.disable_warnings(urllib3.exceptions.InsecureRequestWarning)\n",
    "    d1 = {\"password\": password ,\"teamname\": teamname, \"plaintext\": text}\n",
    "    x = requests.post(url=api_url, data = json.dumps(d1),headers=hdr,verify=False)\n",
    "    ciph = x.json()['ciphertext']\n",
    "    return ciph"
   ]
  },
  {
   "cell_type": "code",
   "execution_count": 641,
   "metadata": {},
   "outputs": [
    {
     "data": {
      "text/plain": [
       "'fogmhjknilhufpmq'"
      ]
     },
     "execution_count": 641,
     "metadata": {},
     "output_type": "execute_result"
    }
   ],
   "source": [
    "pass1 = 'ktirlqhtlqijmmhq'\n",
    "pass2 = 'mgkplijngrluiqlq'\n",
    "plain1 = ['','','','','','','','']\n",
    "plain2 = ['','','','','','','','']\n",
    "encoder('fgh')"
   ]
  },
  {
   "cell_type": "code",
   "execution_count": 642,
   "metadata": {},
   "outputs": [
    {
     "name": "stdout",
     "output_type": "stream",
     "text": [
      "lhffffffffffffff\n"
     ]
    }
   ],
   "source": [
    "for i in all_bytes_text:\n",
    "    input_text = i+'ffffffffffffff'\n",
    "    cipher_text = encoder(input_text)\n",
    "    #print(cipher_text)\n",
    "    if(cipher_text[0:2]==pass1[0:2]):\n",
    "        print(input_text)"
   ]
  },
  {
   "cell_type": "code",
   "execution_count": 643,
   "metadata": {},
   "outputs": [
    {
     "name": "stdout",
     "output_type": "stream",
     "text": [
      "lhlgffffffffffff\n"
     ]
    }
   ],
   "source": [
    "plain1[0]='lh'\n",
    "for i in all_bytes_text:\n",
    "    input_text = plain1[0] + i + 'ffffffffffff'\n",
    "    cipher_text = encoder(input_text)\n",
    "    if(cipher_text[2:4]==pass1[2:4]):\n",
    "        print(input_text)"
   ]
  },
  {
   "cell_type": "code",
   "execution_count": 644,
   "metadata": {},
   "outputs": [
    {
     "name": "stdout",
     "output_type": "stream",
     "text": [
      "lhlgmjffffffffff\n"
     ]
    }
   ],
   "source": [
    "plain1[1]='lg'\n",
    "for i in all_bytes_text:\n",
    "    input_text = plain1[0] + plain1[1] + i + 'ffffffffff'\n",
    "    cipher_text = encoder(input_text)\n",
    "    if(cipher_text[4:6]==pass1[4:6]):\n",
    "        print(input_text)"
   ]
  },
  {
   "cell_type": "code",
   "execution_count": 645,
   "metadata": {},
   "outputs": [
    {
     "name": "stdout",
     "output_type": "stream",
     "text": [
      "lhlgmjmkffffffff\n"
     ]
    }
   ],
   "source": [
    "plain1[2]='mj'\n",
    "for i in all_bytes_text:\n",
    "    input_text = plain1[0] + plain1[1] + plain1[2] + i + 'ffffffff'\n",
    "    cipher_text = encoder(input_text)\n",
    "    if(cipher_text[6:8]==pass1[6:8]):\n",
    "        print(input_text)"
   ]
  },
  {
   "cell_type": "code",
   "execution_count": 646,
   "metadata": {},
   "outputs": [
    {
     "name": "stdout",
     "output_type": "stream",
     "text": [
      "lhlgmjmkmgffffff\n"
     ]
    }
   ],
   "source": [
    "plain1[3]='mk'\n",
    "for i in all_bytes_text:\n",
    "    input_text = plain1[0] + plain1[1] + plain1[2] + plain1[3] + i + 'ffffff'\n",
    "    cipher_text = encoder(input_text)\n",
    "    if(cipher_text[8:10]==pass1[8:10]):\n",
    "        print(input_text)"
   ]
  },
  {
   "cell_type": "code",
   "execution_count": 649,
   "metadata": {},
   "outputs": [
    {
     "name": "stdout",
     "output_type": "stream",
     "text": [
      "lhlgmjmkmglqffff\n"
     ]
    }
   ],
   "source": [
    "plain1[4] = 'mg'\n",
    "for i in all_bytes_text:\n",
    "    input_text = plain1[0] + plain1[1] + plain1[2] + plain1[3] + plain1[4] + i + 'ffff'\n",
    "    cipher_text = encoder(input_text)\n",
    "    if(cipher_text[10:12]==pass1[10:12]):\n",
    "        print(input_text)"
   ]
  },
  {
   "cell_type": "code",
   "execution_count": 650,
   "metadata": {},
   "outputs": [
    {
     "name": "stdout",
     "output_type": "stream",
     "text": [
      "lhlgmjmkmglqloff\n"
     ]
    }
   ],
   "source": [
    "plain1[5] = 'lq'\n",
    "for i in all_bytes_text:\n",
    "    input_text = plain1[0] + plain1[1] + plain1[2] + plain1[3] + plain1[4] + plain1[5] + i + 'ff'\n",
    "    cipher_text = encoder(input_text)\n",
    "    if(cipher_text[12:14]==pass1[12:14]):\n",
    "        print(input_text)"
   ]
  },
  {
   "cell_type": "code",
   "execution_count": 651,
   "metadata": {},
   "outputs": [
    {
     "name": "stdout",
     "output_type": "stream",
     "text": [
      "lhlgmjmkmglqlomp\n"
     ]
    }
   ],
   "source": [
    "plain1[6]='lo'\n",
    "for i in all_bytes_text:\n",
    "    input_text = plain1[0] + plain1[1] + plain1[2] + plain1[3] + plain1[4] + plain1[5] + plain1[6] + i \n",
    "    cipher_text = encoder(input_text)\n",
    "    if(cipher_text[14:16]==pass1[14:16]):\n",
    "        print(input_text)"
   ]
  },
  {
   "cell_type": "code",
   "execution_count": 652,
   "metadata": {},
   "outputs": [],
   "source": [
    "plain1[7] = 'mp'"
   ]
  },
  {
   "cell_type": "code",
   "execution_count": 653,
   "metadata": {},
   "outputs": [
    {
     "data": {
      "text/plain": [
       "'ffgffrlljmffgphf'"
      ]
     },
     "execution_count": 653,
     "metadata": {},
     "output_type": "execute_result"
    }
   ],
   "source": []
  },
  {
   "cell_type": "code",
   "execution_count": 655,
   "metadata": {},
   "outputs": [
    {
     "name": "stdout",
     "output_type": "stream",
     "text": [
      "mo\n",
      "lt\n",
      "mg\n",
      "li\n",
      "lq\n",
      "lm\n",
      "lg\n",
      "mh\n"
     ]
    }
   ],
   "source": [
    "for i in all_bytes_text:\n",
    "    input_text = i+'ffffffffffffff'\n",
    "    cipher_text = encoder(input_text)\n",
    "    #print(cipher_text)\n",
    "    if(cipher_text[0:2]==pass2[0:2]):\n",
    "        plain2[0]=i\n",
    "        print(plain2[0])\n",
    "\n",
    "for i in all_bytes_text:\n",
    "    input_text = plain2[0] + i + 'ffffffffffff'\n",
    "    cipher_text = encoder(input_text)\n",
    "    if(cipher_text[2:4]==pass2[2:4]):\n",
    "        plain2[1]=i\n",
    "        print(plain2[1])\n",
    "        \n",
    "for i in all_bytes_text:\n",
    "    input_text = plain2[0] + plain2[1] + i + 'ffffffffff'\n",
    "    cipher_text = encoder(input_text)\n",
    "    if(cipher_text[4:6]==pass2[4:6]):\n",
    "        plain2[2]=i\n",
    "        print(plain2[2])\n",
    "        \n",
    "for i in all_bytes_text:\n",
    "    input_text = plain2[0] + plain2[1] + plain2[2] + i + 'ffffffff'\n",
    "    cipher_text = encoder(input_text)\n",
    "    if(cipher_text[6:8]==pass2[6:8]):\n",
    "        plain2[3]=i\n",
    "        print(plain2[3])\n",
    "        \n",
    "for i in all_bytes_text:\n",
    "    input_text = plain2[0] + plain2[1] + plain2[2] + plain2[3] + i + 'ffffff'\n",
    "    cipher_text = encoder(input_text)\n",
    "    if(cipher_text[8:10]==pass2[8:10]):\n",
    "        plain2[4]=i\n",
    "        print(plain2[4])\n",
    "        \n",
    "for i in all_bytes_text:\n",
    "    input_text = plain2[0] + plain2[1] + plain2[2] + plain2[3] + plain2[4] + i + 'ffff'\n",
    "    cipher_text = encoder(input_text)\n",
    "    if(cipher_text[10:12]==pass2[10:12]):\n",
    "        plain2[5]=i\n",
    "        print(plain2[5])\n",
    "        \n",
    "for i in all_bytes_text:\n",
    "    input_text = plain2[0] + plain2[1] + plain2[2] + plain2[3] + plain2[4] + plain2[5] + i + 'ff'\n",
    "    cipher_text = encoder(input_text)\n",
    "    if(cipher_text[12:14]==pass2[12:14]):\n",
    "        plain2[6]=i\n",
    "        print(plain2[6])\n",
    "        \n",
    "for i in all_bytes_text:\n",
    "    input_text = plain2[0] + plain2[1] + plain2[2] + plain2[3] + plain2[4] + plain2[5] + plain2[6] + i \n",
    "    cipher_text = encoder(input_text)\n",
    "    if(cipher_text[14:16]==pass2[14:16]):\n",
    "        plain2[7]=i\n",
    "        print(plain2[7])"
   ]
  },
  {
   "cell_type": "code",
   "execution_count": 656,
   "metadata": {},
   "outputs": [
    {
     "name": "stdout",
     "output_type": "stream",
     "text": [
      "lhlgmjmkmglqlomp moltmglilqlmlgmh\n"
     ]
    }
   ],
   "source": [
    "plain_text1 = ''\n",
    "plain_text2 = ''\n",
    "for i in range(0,8):\n",
    "    plain_text1 = plain_text1 + plain1[i]\n",
    "    plain_text2 = plain_text2 + plain2[i]\n",
    "    \n",
    "print(plain_text1,plain_text2)"
   ]
  },
  {
   "cell_type": "code",
   "execution_count": 658,
   "metadata": {},
   "outputs": [
    {
     "name": "stdout",
     "output_type": "stream",
     "text": [
      "batuqkizynqckgar\n"
     ]
    }
   ],
   "source": [
    "ans = ''\n",
    "for i in plain1:\n",
    "    ascii_val = bin_to_dec(char_to_bin(i))\n",
    "    ans = ans+ chr(ascii_val)\n",
    "    \n",
    "for i in plain2:\n",
    "    ascii_val = bin_to_dec(char_to_bin(i))\n",
    "    ans = ans+ chr(ascii_val)\n",
    "    \n",
    "print(ans)"
   ]
  },
  {
   "cell_type": "code",
   "execution_count": null,
   "metadata": {},
   "outputs": [],
   "source": []
  }
 ],
 "metadata": {
  "kernelspec": {
   "display_name": "Python 3",
   "language": "python",
   "name": "python3"
  },
  "language_info": {
   "codemirror_mode": {
    "name": "ipython",
    "version": 3
   },
   "file_extension": ".py",
   "mimetype": "text/x-python",
   "name": "python",
   "nbconvert_exporter": "python",
   "pygments_lexer": "ipython3",
   "version": "3.7.3"
  }
 },
 "nbformat": 4,
 "nbformat_minor": 2
}
