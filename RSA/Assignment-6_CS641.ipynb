{
 "cells": [
  {
   "cell_type": "code",
   "execution_count": 1,
   "metadata": {
    "collapsed": false,
    "scrolled": true
   },
   "outputs": [
    {
     "name": "stdout",
     "output_type": "stream",
     "text": [
      "Known password : This door has RSA encryption with exponent 5 and the password is\n",
      "Known password binary : 01010100011010000110100101110011001000000110010001101111011011110111001000100000011010000110000101110011001000000101001001010011010000010010000001100101011011100110001101110010011110010111000001110100011010010110111101101110001000000111011101101001011101000110100000100000011001010111100001110000011011110110111001100101011011100111010000100000001101010010000001100001011011100110010000100000011101000110100001100101001000000111000001100001011100110111001101110111011011110111001001100100001000000110100101110011\n",
      "Known password integer value : 4420798287960858089568459324014695894272440673821128081821764782831683782545477909845049053105265285041200031866649437923254125310572518093995086614391155\n",
      "\n",
      "\n"
     ]
    },
    {
     "name": "stdout",
     "output_type": "stream",
     "text": [
      "1  : This door has RSA encryption with exponent 5 and the password is\n",
      "2  : This door has RSA encryption with exponent 5 and the password is\n",
      "3  : This door has RSA encryption with exponent 5 and the password is\n",
      "4  : This door has RSA encryption with exponent 5 and the password is\n"
     ]
    },
    {
     "name": "stdout",
     "output_type": "stream",
     "text": [
      "5  : This door has RSA encryption with exponent 5 and the password is\n",
      "6  : This door has RSA encryption with exponent 5 and the password is\n",
      "7  : This door has RSA encryption with exponent 5 and the password is\n"
     ]
    },
    {
     "name": "stdout",
     "output_type": "stream",
     "text": [
      "8  : This door has RSA encryption with exponent 5 and the password is\n",
      "9  : This door has RSA encryption with exponent 5 and the password is\n",
      "10  : This door has RSA encryption with exponent 5 and the password is\n",
      "11  : This door has RSA encryption with exponent 5 and the password is\n"
     ]
    },
    {
     "name": "stdout",
     "output_type": "stream",
     "text": [
      "12  : This door has RSA encryption with exponent 5 and the password is\n",
      "13  : This door has RSA encryption with exponent 5 and the password is\n",
      "14  : This door has RSA encryption with exponent 5 and the password is\n",
      "15  : This door has RSA encryption with exponent 5 and the password is\n"
     ]
    },
    {
     "name": "stdout",
     "output_type": "stream",
     "text": [
      "16  : This door has RSA encryption with exponent 5 and the password is\n",
      "17  : This door has RSA encryption with exponent 5 and the password is\n",
      "18  : This door has RSA encryption with exponent 5 and the password is\n",
      "19  : This door has RSA encryption with exponent 5 and the password is\n",
      "20  : This door has RSA encryption with exponent 5 and the password is\n"
     ]
    },
    {
     "name": "stdout",
     "output_type": "stream",
     "text": [
      "21  : This door has RSA encryption with exponent 5 and the password is\n",
      "22  : This door has RSA encryption with exponent 5 and the password is\n",
      "23  : This door has RSA encryption with exponent 5 and the password is\n",
      "24  : This door has RSA encryption with exponent 5 and the password is\n"
     ]
    },
    {
     "name": "stdout",
     "output_type": "stream",
     "text": [
      "25  : This door has RSA encryption with exponent 5 and the password is\n",
      "26  : This door has RSA encryption with exponent 5 and the password is\n",
      "27  : This door has RSA encryption with exponent 5 and the password is\n",
      "28  : This door has RSA encryption with exponent 5 and the password is\n"
     ]
    },
    {
     "name": "stdout",
     "output_type": "stream",
     "text": [
      "29  : This door has RSA encryption with exponent 5 and the password is\n",
      "30  : This door has RSA encryption with exponent 5 and the password is\n",
      "31  : This door has RSA encryption with exponent 5 and the password is\n"
     ]
    },
    {
     "name": "stdout",
     "output_type": "stream",
     "text": [
      "32  : This door has RSA encryption with exponent 5 and the password is\n",
      "33  : This door has RSA encryption with exponent 5 and the password is\n",
      "34  : This door has RSA encryption with exponent 5 and the password is\n",
      "35  : This door has RSA encryption with exponent 5 and the password is\n"
     ]
    },
    {
     "name": "stdout",
     "output_type": "stream",
     "text": [
      "36  : This door has RSA encryption with exponent 5 and the password is\n",
      "37  : This door has RSA encryption with exponent 5 and the password is\n",
      "38  : This door has RSA encryption with exponent 5 and the password is\n",
      "39  : This door has RSA encryption with exponent 5 and the password is\n"
     ]
    },
    {
     "name": "stdout",
     "output_type": "stream",
     "text": [
      "40  : This door has RSA encryption with exponent 5 and the password is\n",
      "41  : This door has RSA encryption with exponent 5 and the password is\n",
      "42  : This door has RSA encryption with exponent 5 and the password is\n"
     ]
    },
    {
     "name": "stdout",
     "output_type": "stream",
     "text": [
      "43  : This door has RSA encryption with exponent 5 and the password is\n",
      "44  : This door has RSA encryption with exponent 5 and the password is\n",
      "45  : This door has RSA encryption with exponent 5 and the password is\n",
      "46  : This door has RSA encryption with exponent 5 and the password is\n"
     ]
    },
    {
     "name": "stdout",
     "output_type": "stream",
     "text": [
      "47  : This door has RSA encryption with exponent 5 and the password is\n",
      "48  : This door has RSA encryption with exponent 5 and the password is\n",
      "49  : This door has RSA encryption with exponent 5 and the password is\n",
      "50  : This door has RSA encryption with exponent 5 and the password is\n"
     ]
    },
    {
     "name": "stdout",
     "output_type": "stream",
     "text": [
      "51  : This door has RSA encryption with exponent 5 and the password is\n",
      "52  : This door has RSA encryption with exponent 5 and the password is\n",
      "53  : This door has RSA encryption with exponent 5 and the password is\n",
      "54  : This door has RSA encryption with exponent 5 and the password is\n"
     ]
    },
    {
     "name": "stdout",
     "output_type": "stream",
     "text": [
      "55  : This door has RSA encryption with exponent 5 and the password is\n",
      "56  : This door has RSA encryption with exponent 5 and the password is\n",
      "57  : This door has RSA encryption with exponent 5 and the password is\n",
      "58  : This door has RSA encryption with exponent 5 and the password is\n"
     ]
    },
    {
     "name": "stdout",
     "output_type": "stream",
     "text": [
      "59  : This door has RSA encryption with exponent 5 and the password is\n",
      "60  : This door has RSA encryption with exponent 5 and the password is\n",
      "61  : This door has RSA encryption with exponent 5 and the password is\n"
     ]
    },
    {
     "name": "stdout",
     "output_type": "stream",
     "text": [
      "62  : This door has RSA encryption with exponent 5 and the password is\n",
      "63  : This door has RSA encryption with exponent 5 and the password is\n",
      "64  : This door has RSA encryption with exponent 5 and the password is\n",
      "65  : This door has RSA encryption with exponent 5 and the password is\n",
      "66  : This door has RSA encryption with exponent 5 and the password is\n"
     ]
    },
    {
     "name": "stdout",
     "output_type": "stream",
     "text": [
      "67  : This door has RSA encryption with exponent 5 and the password is\n",
      "68  : This door has RSA encryption with exponent 5 and the password is\n",
      "69  : This door has RSA encryption with exponent 5 and the password is\n",
      "70  : This door has RSA encryption with exponent 5 and the password is\n"
     ]
    },
    {
     "name": "stdout",
     "output_type": "stream",
     "text": [
      "71  : This door has RSA encryption with exponent 5 and the password is\n",
      "72  : This door has RSA encryption with exponent 5 and the password is\n",
      "73  : This door has RSA encryption with exponent 5 and the password is\n",
      "74  : This door has RSA encryption with exponent 5 and the password is\n",
      "75  : This door has RSA encryption with exponent 5 and the password is\n"
     ]
    },
    {
     "name": "stdout",
     "output_type": "stream",
     "text": [
      "76  : This door has RSA encryption with exponent 5 and the password is\n",
      "77  : This door has RSA encryption with exponent 5 and the password is\n",
      "78  : This door has RSA encryption with exponent 5 and the password is\n",
      "79  : This door has RSA encryption with exponent 5 and the password is\n",
      "80  : This door has RSA encryption with exponent 5 and the password is tkigrdrei\n"
     ]
    },
    {
     "name": "stdout",
     "output_type": "stream",
     "text": [
      "81  : This door has RSA encryption with exponent 5 and the password is\n",
      "82  : This door has RSA encryption with exponent 5 and the password is\n",
      "83  : This door has RSA encryption with exponent 5 and the password is\n",
      "84  : This door has RSA encryption with exponent 5 and the password is\n",
      "85  : This door has RSA encryption with exponent 5 and the password is\n"
     ]
    },
    {
     "name": "stdout",
     "output_type": "stream",
     "text": [
      "86  : This door has RSA encryption with exponent 5 and the password is\n",
      "87  : This door has RSA encryption with exponent 5 and the password is\n",
      "88  : This door has RSA encryption with exponent 5 and the password is\n",
      "89  : This door has RSA encryption with exponent 5 and the password is\n",
      "90  : This door has RSA encryption with exponent 5 and the password is\n"
     ]
    },
    {
     "name": "stdout",
     "output_type": "stream",
     "text": [
      "91  : This door has RSA encryption with exponent 5 and the password is\n",
      "92  : This door has RSA encryption with exponent 5 and the password is\n",
      "93  : This door has RSA encryption with exponent 5 and the password is\n",
      "94  : This door has RSA encryption with exponent 5 and the password is\n"
     ]
    },
    {
     "name": "stdout",
     "output_type": "stream",
     "text": [
      "95  : This door has RSA encryption with exponent 5 and the password is\n",
      "96  : This door has RSA encryption with exponent 5 and the password is\n",
      "97  : This door has RSA encryption with exponent 5 and the password is\n",
      "98  : This door has RSA encryption with exponent 5 and the password is\n"
     ]
    },
    {
     "name": "stdout",
     "output_type": "stream",
     "text": [
      "99  : This door has RSA encryption with exponent 5 and the password is\n",
      "100  : This door has RSA encryption with exponent 5 and the password is\n",
      "101  : This door has RSA encryption with exponent 5 and the password is\n",
      "102  : This door has RSA encryption with exponent 5 and the password is\n"
     ]
    },
    {
     "name": "stdout",
     "output_type": "stream",
     "text": [
      "103  : This door has RSA encryption with exponent 5 and the password is\n",
      "104  : This door has RSA encryption with exponent 5 and the password is\n",
      "105  : This door has RSA encryption with exponent 5 and the password is\n",
      "106  : This door has RSA encryption with exponent 5 and the password is\n",
      "107  : This door has RSA encryption with exponent 5 and the password is\n"
     ]
    },
    {
     "name": "stdout",
     "output_type": "stream",
     "text": [
      "108  : This door has RSA encryption with exponent 5 and the password is\n",
      "109  : This door has RSA encryption with exponent 5 and the password is\n",
      "110  : This door has RSA encryption with exponent 5 and the password is\n"
     ]
    },
    {
     "name": "stdout",
     "output_type": "stream",
     "text": [
      "111  : This door has RSA encryption with exponent 5 and the password is\n",
      "112  : This door has RSA encryption with exponent 5 and the password is\n",
      "113  : This door has RSA encryption with exponent 5 and the password is\n",
      "114  : This door has RSA encryption with exponent 5 and the password is\n",
      "115  : This door has RSA encryption with exponent 5 and the password is\n"
     ]
    },
    {
     "name": "stdout",
     "output_type": "stream",
     "text": [
      "116  : This door has RSA encryption with exponent 5 and the password is\n",
      "117  : This door has RSA encryption with exponent 5 and the password is\n",
      "118  : This door has RSA encryption with exponent 5 and the password is\n",
      "119  : This door has RSA encryption with exponent 5 and the password is\n"
     ]
    },
    {
     "name": "stdout",
     "output_type": "stream",
     "text": [
      "120  : This door has RSA encryption with exponent 5 and the password is\n",
      "121  : This door has RSA encryption with exponent 5 and the password is\n",
      "122  : This door has RSA encryption with exponent 5 and the password is\n",
      "123  : This door has RSA encryption with exponent 5 and the password is\n"
     ]
    },
    {
     "name": "stdout",
     "output_type": "stream",
     "text": [
      "124  : This door has RSA encryption with exponent 5 and the password is\n",
      "125  : This door has RSA encryption with exponent 5 and the password is\n",
      "126  : This door has RSA encryption with exponent 5 and the password is\n"
     ]
    },
    {
     "name": "stdout",
     "output_type": "stream",
     "text": [
      "127  : This door has RSA encryption with exponent 5 and the password is\n",
      "128  : This door has RSA encryption with exponent 5 and the password is\n",
      "129  : This door has RSA encryption with exponent 5 and the password is\n",
      "130  : This door has RSA encryption with exponent 5 and the password is\n"
     ]
    },
    {
     "name": "stdout",
     "output_type": "stream",
     "text": [
      "131  : This door has RSA encryption with exponent 5 and the password is\n",
      "132  : This door has RSA encryption with exponent 5 and the password is\n",
      "133  : This door has RSA encryption with exponent 5 and the password is\n",
      "134  : This door has RSA encryption with exponent 5 and the password is\n"
     ]
    },
    {
     "name": "stdout",
     "output_type": "stream",
     "text": [
      "135  : This door has RSA encryption with exponent 5 and the password is\n",
      "136  : This door has RSA encryption with exponent 5 and the password is\n",
      "137  : This door has RSA encryption with exponent 5 and the password is\n",
      "138  : This door has RSA encryption with exponent 5 and the password is\n"
     ]
    },
    {
     "name": "stdout",
     "output_type": "stream",
     "text": [
      "139  : This door has RSA encryption with exponent 5 and the password is\n",
      "140  : This door has RSA encryption with exponent 5 and the password is\n",
      "141  : This door has RSA encryption with exponent 5 and the password is\n"
     ]
    },
    {
     "name": "stdout",
     "output_type": "stream",
     "text": [
      "142  : This door has RSA encryption with exponent 5 and the password is\n",
      "143  : This door has RSA encryption with exponent 5 and the password is\n",
      "144  : This door has RSA encryption with exponent 5 and the password is\n",
      "145  : This door has RSA encryption with exponent 5 and the password is\n"
     ]
    },
    {
     "name": "stdout",
     "output_type": "stream",
     "text": [
      "146  : This door has RSA encryption with exponent 5 and the password is\n",
      "147  : This door has RSA encryption with exponent 5 and the password is\n",
      "148  : This door has RSA encryption with exponent 5 and the password is\n"
     ]
    },
    {
     "name": "stdout",
     "output_type": "stream",
     "text": [
      "149  : This door has RSA encryption with exponent 5 and the password is\n",
      "150  : This door has RSA encryption with exponent 5 and the password is\n",
      "151  : This door has RSA encryption with exponent 5 and the password is\n",
      "152  : This door has RSA encryption with exponent 5 and the password is\n"
     ]
    },
    {
     "name": "stdout",
     "output_type": "stream",
     "text": [
      "153  : This door has RSA encryption with exponent 5 and the password is\n",
      "154  : This door has RSA encryption with exponent 5 and the password is\n",
      "155  : This door has RSA encryption with exponent 5 and the password is\n",
      "156  : This door has RSA encryption with exponent 5 and the password is\n"
     ]
    },
    {
     "name": "stdout",
     "output_type": "stream",
     "text": [
      "157  : This door has RSA encryption with exponent 5 and the password is\n",
      "158  : This door has RSA encryption with exponent 5 and the password is\n",
      "159  : This door has RSA encryption with exponent 5 and the password is\n",
      "160  : This door has RSA encryption with exponent 5 and the password is\n",
      "161  : This door has RSA encryption with exponent 5 and the password is\n"
     ]
    },
    {
     "name": "stdout",
     "output_type": "stream",
     "text": [
      "162  : This door has RSA encryption with exponent 5 and the password is\n",
      "163  : This door has RSA encryption with exponent 5 and the password is\n",
      "164  : This door has RSA encryption with exponent 5 and the password is\n",
      "165  : This door has RSA encryption with exponent 5 and the password is\n",
      "166  : This door has RSA encryption with exponent 5 and the password is\n"
     ]
    },
    {
     "name": "stdout",
     "output_type": "stream",
     "text": [
      "167  : This door has RSA encryption with exponent 5 and the password is\n",
      "168  : This door has RSA encryption with exponent 5 and the password is\n",
      "169  : This door has RSA encryption with exponent 5 and the password is\n",
      "170  : This door has RSA encryption with exponent 5 and the password is\n",
      "171  : This door has RSA encryption with exponent 5 and the password is\n"
     ]
    },
    {
     "name": "stdout",
     "output_type": "stream",
     "text": [
      "172  : This door has RSA encryption with exponent 5 and the password is\n",
      "173  : This door has RSA encryption with exponent 5 and the password is\n",
      "174  : This door has RSA encryption with exponent 5 and the password is\n",
      "175  : This door has RSA encryption with exponent 5 and the password is\n",
      "176  : This door has RSA encryption with exponent 5 and the password is\n"
     ]
    },
    {
     "name": "stdout",
     "output_type": "stream",
     "text": [
      "177  : This door has RSA encryption with exponent 5 and the password is\n",
      "178  : This door has RSA encryption with exponent 5 and the password is\n",
      "179  : This door has RSA encryption with exponent 5 and the password is\n",
      "180  : This door has RSA encryption with exponent 5 and the password is\n"
     ]
    },
    {
     "name": "stdout",
     "output_type": "stream",
     "text": [
      "181  : This door has RSA encryption with exponent 5 and the password is\n",
      "182  : This door has RSA encryption with exponent 5 and the password is\n",
      "183  : This door has RSA encryption with exponent 5 and the password is\n",
      "184  : This door has RSA encryption with exponent 5 and the password is\n",
      "185  : This door has RSA encryption with exponent 5 and the password is\n"
     ]
    },
    {
     "name": "stdout",
     "output_type": "stream",
     "text": [
      "186  : This door has RSA encryption with exponent 5 and the password is\n",
      "187  : This door has RSA encryption with exponent 5 and the password is\n",
      "188  : This door has RSA encryption with exponent 5 and the password is\n",
      "189  : This door has RSA encryption with exponent 5 and the password is\n",
      "190  : This door has RSA encryption with exponent 5 and the password is\n"
     ]
    },
    {
     "name": "stdout",
     "output_type": "stream",
     "text": [
      "191  : This door has RSA encryption with exponent 5 and the password is\n",
      "192  : This door has RSA encryption with exponent 5 and the password is\n",
      "193  : This door has RSA encryption with exponent 5 and the password is\n",
      "194  : This door has RSA encryption with exponent 5 and the password is\n",
      "195  : This door has RSA encryption with exponent 5 and the password is\n"
     ]
    },
    {
     "name": "stdout",
     "output_type": "stream",
     "text": [
      "196  : This door has RSA encryption with exponent 5 and the password is\n",
      "197  : This door has RSA encryption with exponent 5 and the password is\n",
      "198  : This door has RSA encryption with exponent 5 and the password is\n",
      "199  : This door has RSA encryption with exponent 5 and the password is\n",
      "200  : This door has RSA encryption with exponent 5 and the password is\n"
     ]
    },
    {
     "name": "stdout",
     "output_type": "stream",
     "text": [
      "201  : This door has RSA encryption with exponent 5 and the password is\n",
      "202  : This door has RSA encryption with exponent 5 and the password is\n",
      "203  : This door has RSA encryption with exponent 5 and the password is\n",
      "204  : This door has RSA encryption with exponent 5 and the password is\n"
     ]
    },
    {
     "name": "stdout",
     "output_type": "stream",
     "text": [
      "205  : This door has RSA encryption with exponent 5 and the password is\n",
      "206  : This door has RSA encryption with exponent 5 and the password is\n",
      "207  : This door has RSA encryption with exponent 5 and the password is\n",
      "208  : This door has RSA encryption with exponent 5 and the password is\n"
     ]
    },
    {
     "name": "stdout",
     "output_type": "stream",
     "text": [
      "209  : This door has RSA encryption with exponent 5 and the password is\n",
      "210  : This door has RSA encryption with exponent 5 and the password is\n",
      "211  : This door has RSA encryption with exponent 5 and the password is\n",
      "212  : This door has RSA encryption with exponent 5 and the password is\n"
     ]
    },
    {
     "name": "stdout",
     "output_type": "stream",
     "text": [
      "213  : This door has RSA encryption with exponent 5 and the password is\n",
      "214  : This door has RSA encryption with exponent 5 and the password is\n",
      "215  : This door has RSA encryption with exponent 5 and the password is\n",
      "216  : This door has RSA encryption with exponent 5 and the password is\n",
      "217  : This door has RSA encryption with exponent 5 and the password is\n"
     ]
    },
    {
     "name": "stdout",
     "output_type": "stream",
     "text": [
      "218  : This door has RSA encryption with exponent 5 and the password is\n",
      "219  : This door has RSA encryption with exponent 5 and the password is\n",
      "220  : This door has RSA encryption with exponent 5 and the password is\n",
      "221  : This door has RSA encryption with exponent 5 and the password is\n"
     ]
    },
    {
     "name": "stdout",
     "output_type": "stream",
     "text": [
      "222  : This door has RSA encryption with exponent 5 and the password is\n",
      "223  : This door has RSA encryption with exponent 5 and the password is\n",
      "224  : This door has RSA encryption with exponent 5 and the password is\n",
      "225  : This door has RSA encryption with exponent 5 and the password is\n",
      "226  : This door has RSA encryption with exponent 5 and the password is\n"
     ]
    },
    {
     "name": "stdout",
     "output_type": "stream",
     "text": [
      "227  : This door has RSA encryption with exponent 5 and the password is\n",
      "228  : This door has RSA encryption with exponent 5 and the password is\n",
      "229  : This door has RSA encryption with exponent 5 and the password is\n",
      "230  : This door has RSA encryption with exponent 5 and the password is\n"
     ]
    },
    {
     "name": "stdout",
     "output_type": "stream",
     "text": [
      "231  : This door has RSA encryption with exponent 5 and the password is\n",
      "232  : This door has RSA encryption with exponent 5 and the password is\n",
      "233  : This door has RSA encryption with exponent 5 and the password is\n",
      "234  : This door has RSA encryption with exponent 5 and the password is\n"
     ]
    },
    {
     "name": "stdout",
     "output_type": "stream",
     "text": [
      "235  : This door has RSA encryption with exponent 5 and the password is\n",
      "236  : This door has RSA encryption with exponent 5 and the password is\n",
      "237  : This door has RSA encryption with exponent 5 and the password is\n",
      "238  : This door has RSA encryption with exponent 5 and the password is\n"
     ]
    },
    {
     "name": "stdout",
     "output_type": "stream",
     "text": [
      "239  : This door has RSA encryption with exponent 5 and the password is\n",
      "240  : This door has RSA encryption with exponent 5 and the password is\n",
      "241  : This door has RSA encryption with exponent 5 and the password is\n",
      "242  : This door has RSA encryption with exponent 5 and the password is\n",
      "243  : This door has RSA encryption with exponent 5 and the password is\n"
     ]
    },
    {
     "name": "stdout",
     "output_type": "stream",
     "text": [
      "244  : This door has RSA encryption with exponent 5 and the password is\n",
      "245  : This door has RSA encryption with exponent 5 and the password is\n",
      "246  : This door has RSA encryption with exponent 5 and the password is\n",
      "247  : This door has RSA encryption with exponent 5 and the password is\n",
      "248  : This door has RSA encryption with exponent 5 and the password is\n"
     ]
    }
   ],
   "source": [
    "def coppersmith_method(pol, modulus, beta, m, t, X):\n",
    "    \n",
    "    polynomial_degree = pol.degree();\n",
    "    n = polynomial_degree * m + t;\n",
    "    \n",
    "    # change ring of polynomial and x\n",
    "    polynomialZ = pol.change_ring(ZZ);\n",
    "    x = polynomialZ.parent().gen();\n",
    "\n",
    "    # compute polynomial\n",
    "    g = [];\n",
    "    for i in range(m):\n",
    "        for j in range(polynomial_degree):\n",
    "            g.append((x * X)^j * modulus^(m - i) * polynomialZ(x * X)^i);\n",
    "    for i in range(t):\n",
    "        g.append((x * X)**i * polynomialZ(x * X)**m);\n",
    "\n",
    "    # construct latice matrix(LM)\n",
    "    LM = Matrix(ZZ, n);\n",
    "\n",
    "    for i in range(n):\n",
    "        for j in range(i+1):\n",
    "            LM[i, j] = g[i][j];\n",
    "\n",
    "    # LLL\n",
    "    LM = LM.LLL();\n",
    "\n",
    "    # transform shortest vector in polynomial\n",
    "    new_polynomial = 0\n",
    "    for i in range(n):\n",
    "        new_polynomial += x**i * LM[0, i] / X**i;\n",
    "\n",
    "    # factor polynomial\n",
    "    pot_roots = new_polynomial.roots();\n",
    "\n",
    "    # test roots\n",
    "    roots = [];\n",
    "    for root in pot_roots:\n",
    "        if root[0].is_integer():\n",
    "            result = polynomialZ(ZZ(root[0]));\n",
    "            if gcd(modulus, result) >= modulus^beta:\n",
    "                roots.append(ZZ(root[0]));\n",
    "\n",
    "    return roots;\n",
    "\n",
    "\n",
    "\n",
    "length_N = 1024       # size of the modulus\n",
    "Known_bits = 512      # size of the known password\n",
    "e = 5                 # value of public exponent\n",
    "\n",
    "N=84364443735725034864402554533826279174703893439763343343863260342756678609216895093779263028809246505955647572176682669445270008816481771701417554768871285020442403001649254405058303439906229201909599348669565697534331652019516409514800265887388539283381053937433496994442146419682027649079704982600857517093;  # public modulus value\n",
    "\n",
    "Cipher=58851190819355714547275899558441715663746139847246075619270745338657007055698378740637742775361768899700888858087050662614318305443064448898026503556757610342938490741361643696285051867260278567896991927351964557374977619644763633229896668511752432222528159214013173319855645351619393871433455550581741643299; #known cipher text value\n",
    "\n",
    "Known_password =\"This door has RSA encryption with exponent 5 and the password is\";      # Half known password\n",
    "\n",
    "\n",
    "Known_pass_bin= ''.join(format(ord(x), 'b').zfill(8) for x in Known_password)  # Known text to Known binary password\n",
    "# Known_pass_bin =Known_pass_bin+''.join(['0']*512);\n",
    "Known_pass_int =int(Known_pass_bin, 2)  #known password integer value\n",
    "\n",
    "print(\"Known password :\",Known_password)\n",
    "print(\"Known password binary :\",Known_pass_bin)\n",
    "print(\"Known password integer value :\",Known_pass_int)\n",
    "print(\"\\n\")\n",
    "# Known_password_int = 4420798287960858089568459324014695894272440673821128081821764782831683782545477909845049053105265285041200031866649437923254125310572518093995086614391155;\n",
    "\n",
    "\n",
    "ZmodN = Zmod(N);\n",
    "\n",
    "P.<x> = PolynomialRing(ZmodN) #implementation='NTL'\n",
    "\n",
    "for l in range(1,513):\n",
    "    polynomial= (Known_pass_int*2^l + x) ^5-Cipher           # polynomial = (known_message + x (unknown_message))^e -Cipher\n",
    "    polynomial_degree = polynomial.degree()\n",
    "\n",
    "    #parameters for coppersmitha algorithm use\n",
    "    beta = 1.0;\n",
    "    epsilon = beta / 7;\n",
    "    m = ceil(beta^2 / (polynomial_degree * epsilon));\n",
    "    t = floor(polynomial_degree * m * ((1/beta) - 1));\n",
    "    X =  ceil(N^((beta^2/polynomial_degree) - epsilon));\n",
    "\n",
    "    # Coppersmith\n",
    "    roots = coppersmith_method(polynomial, N, beta, m, t, X)\n",
    "    string_roots = '0'+\"\".join([str(i) for i in roots])          # unknown password integer string\n",
    "\n",
    "    sol_int =Integer(string_roots,10)                            # unknown password integer value\n",
    "    sol_bin =\"{0:b}\".format(sol_int) ;\n",
    "    # print(\"sol_bin: \",sol_bin)                                 # unknown password binary string\n",
    "\n",
    "    sol_text =int(sol_bin, 2).to_bytes((int(sol_bin, 2).bit_length() + 7) // 8, 'big').decode()  # unknown password text string\n",
    "\n",
    "    final_password = Known_password + sol_text;                 # the final message of the given cipher and known text\n",
    "    print(l,\" :\",final_password) \n"
   ]
  },
  {
   "cell_type": "code",
   "execution_count": 0,
   "metadata": {
    "collapsed": false
   },
   "outputs": [
   ],
   "source": [
   ]
  },
  {
   "cell_type": "code",
   "execution_count": 0,
   "metadata": {
    "collapsed": false
   },
   "outputs": [
   ],
   "source": [
   ]
  },
  {
   "cell_type": "code",
   "execution_count": 0,
   "metadata": {
    "collapsed": false
   },
   "outputs": [
   ],
   "source": [
   ]
  }
 ],
 "metadata": {
  "kernelspec": {
   "display_name": "SageMath 9.0",
   "language": "sagemath",
   "metadata": {
    "cocalc": {
     "description": "Open-source mathematical software system",
     "priority": 10,
     "url": "https://www.sagemath.org/"
    }
   },
   "name": "sage-9.0"
  },
  "language_info": {
   "codemirror_mode": {
    "name": "ipython",
    "version": 3
   },
   "file_extension": ".py",
   "mimetype": "text/x-python",
   "name": "python",
   "nbconvert_exporter": "python",
   "pygments_lexer": "ipython3",
   "version": "3.7.3"
  }
 },
 "nbformat": 4,
 "nbformat_minor": 4
}